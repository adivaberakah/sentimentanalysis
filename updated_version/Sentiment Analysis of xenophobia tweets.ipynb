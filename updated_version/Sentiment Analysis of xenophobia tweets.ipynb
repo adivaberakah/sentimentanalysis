{
 "cells": [
  {
   "cell_type": "markdown",
   "metadata": {},
   "source": [
    "### MR SAM'S PROJECT "
   ]
  },
  {
   "cell_type": "markdown",
   "metadata": {},
   "source": [
    "# Exploring Twitter data: Sentiment Analysis of xenophobia tweets"
   ]
  },
  {
   "cell_type": "markdown",
   "metadata": {},
   "source": [
    "To carry out this project, we're going to analyze tweets in order to gain insight about a particular term on Twitter."
   ]
  },
  {
   "cell_type": "markdown",
   "metadata": {},
   "source": [
    "## Initial Setup"
   ]
  },
  {
   "cell_type": "markdown",
   "metadata": {},
   "source": [
    "This script is using Python 3.7 .\n",
    "Before starting, make sure you have the Twitter API credentials, obtainable here https://apps.twitter.com/."
   ]
  },
  {
   "cell_type": "markdown",
   "metadata": {},
   "source": [
    "I've set up a file that will store the Twitter API credentials. This file is to be set to be ignore by the source control we're using so as not to commit it by error (and expose it)."
   ]
  },
  {
   "cell_type": "markdown",
   "metadata": {},
   "source": [
    "The **credentials.ini** file I've set up looks as follows:"
   ]
  },
  {
   "cell_type": "raw",
   "metadata": {},
   "source": [
    "[DEFAULT]\n",
    "access_token = your_twitter_access_token_no_quotes\n",
    "access_token_secret = your_twitter_token_secret_no_quotes\n",
    "consumer_key = your_twitter_consumer_key_no_quotes\n",
    "consumer_secret = your_twitter_consumer_secret_no_quotes"
   ]
  },
  {
   "cell_type": "code",
   "execution_count": 1,
   "metadata": {},
   "outputs": [
    {
     "data": {
      "text/plain": [
       "['credentials.ini']"
      ]
     },
     "execution_count": 1,
     "metadata": {},
     "output_type": "execute_result"
    }
   ],
   "source": [
    "import configparser\n",
    "CONFIG = configparser.ConfigParser()\n",
    "CONFIG.read('credentials.ini')"
   ]
  },
  {
   "cell_type": "markdown",
   "metadata": {},
   "source": [
    "## Get Twitter data"
   ]
  },
  {
   "cell_type": "markdown",
   "metadata": {},
   "source": [
    "We're going to need to access the Twitter APIs in order to get tweet data. Several options are available, both free and paid. A detailed explanation of options is available here: https://developer.twitter.com/en/docs/tweets/search/overview \n",
    "\n",
    "In this proof of concept we'll be using the free version of the Twitter Search API, which as per the below site performs\n",
    "> searches against a sampling of recent Tweets published in the past 7 days. Part of the 'public' set of APIs."
   ]
  },
  {
   "cell_type": "markdown",
   "metadata": {},
   "source": [
    "This should be enough for our needs for now. Moving forward, we could either decide between making the API calls directly or using a library that will do so for us. Given the vast choice the Python ecosystem gives us, we're going to use [TwitterSearch](https://pypi.org/project/TwitterSearch/), which should help us get started quicker.\n",
    "After pip-installing TwitterSearch, we're ready to go."
   ]
  },
  {
   "cell_type": "code",
   "execution_count": 2,
   "metadata": {},
   "outputs": [],
   "source": [
    "from TwitterSearch import TwitterSearch, TwitterSearchOrder, TwitterSearchException"
   ]
  },
  {
   "cell_type": "markdown",
   "metadata": {},
   "source": [
    "We will instantiate the TwitterSearch object that will be our entry point to the API"
   ]
  },
  {
   "cell_type": "code",
   "execution_count": 3,
   "metadata": {},
   "outputs": [],
   "source": [
    "ts = TwitterSearch(access_token=CONFIG['DEFAULT']['access_token'], #your access token\n",
    "                       access_token_secret=CONFIG['DEFAULT']['access_token_secret'], #your access token secret\n",
    "                       consumer_key=CONFIG['DEFAULT']['consumer_key'], #your consumer key\n",
    "                       consumer_secret=CONFIG['DEFAULT']['consumer_secret']) # your consumer secret"
   ]
  },
  {
   "cell_type": "markdown",
   "metadata": {},
   "source": [
    "We'll now need to create a Search Order against the Search object we've defined above."
   ]
  },
  {
   "cell_type": "code",
   "execution_count": 4,
   "metadata": {},
   "outputs": [],
   "source": [
    "tso = TwitterSearchOrder()"
   ]
  },
  {
   "cell_type": "markdown",
   "metadata": {},
   "source": [
    "Say we're interested in tweets about the recent xenophobia in southafrica"
   ]
  },
  {
   "cell_type": "code",
   "execution_count": 5,
   "metadata": {},
   "outputs": [],
   "source": [
    "xeno_keywords, language = ['xenophobia'], 'en'\n",
    "south_keywords, language = ['southafrica'], 'en'"
   ]
  },
  {
   "cell_type": "markdown",
   "metadata": {},
   "source": [
    "We'll instantiate a list to store the results:"
   ]
  },
  {
   "cell_type": "code",
   "execution_count": 6,
   "metadata": {},
   "outputs": [],
   "source": [
    "results = []"
   ]
  },
  {
   "cell_type": "markdown",
   "metadata": {},
   "source": [
    "Now, we'll set up the search order we've created earlier, and pass in the keyword for xenophobia"
   ]
  },
  {
   "cell_type": "code",
   "execution_count": 7,
   "metadata": {},
   "outputs": [],
   "source": [
    "tso.remove_all_filters() #remove all previously set filters\n",
    "tso.set_result_type('recent') #you can choose between popular, recent or mixed tweets\n",
    "tso.set_keywords(xeno_keywords) # previously defined keywords\n",
    "tso.set_language(language) # en = english, de = german, ru=russian and so on\n",
    "tso.set_include_entities(False) #entities provide additional metadata"
   ]
  },
  {
   "cell_type": "markdown",
   "metadata": {},
   "source": [
    "The search object will now get executed and will return an iterable of result, which we'll store in the list we've previously instantiated"
   ]
  },
  {
   "cell_type": "code",
   "execution_count": 8,
   "metadata": {},
   "outputs": [],
   "source": [
    "for tweet in ts.search_tweets_iterable(tso):\n",
    "    results.append(tweet)"
   ]
  },
  {
   "cell_type": "markdown",
   "metadata": {},
   "source": [
    "Next, we will do the same for the term/keyword southafrica"
   ]
  },
  {
   "cell_type": "code",
   "execution_count": 9,
   "metadata": {},
   "outputs": [],
   "source": [
    "tso.remove_all_filters() #remove all previously set filters\n",
    "tso.set_result_type('recent') #you can choose between popular, recent or mixed tweets\n",
    "tso.set_keywords(south_keywords) # previously defined keywords\n",
    "tso.set_language(language) # en = english, de = german, ru=russian and so on\n",
    "tso.set_include_entities(False) #entities provide additional metadata"
   ]
  },
  {
   "cell_type": "code",
   "execution_count": 10,
   "metadata": {},
   "outputs": [],
   "source": [
    "for tweet in ts.search_tweets_iterable(tso):\n",
    "    results.append(tweet)"
   ]
  },
  {
   "cell_type": "markdown",
   "metadata": {},
   "source": [
    "Now we have a list of tweets, which look like the following.\n",
    "We could see that we have a nested dictionary-like structure containing other dictionaries, lists. This needs to be flattened out se we could analyze data more efficiently."
   ]
  },
  {
   "cell_type": "code",
   "execution_count": 11,
   "metadata": {
    "scrolled": true
   },
   "outputs": [
    {
     "data": {
      "text/plain": [
       "{'created_at': 'Tue Jan 21 20:37:25 +0000 2020',\n",
       " 'id': 1219720675797041152,\n",
       " 'id_str': '1219720675797041152',\n",
       " 'text': 'RT @vijaita: Dear rest of India, all Bengali speaking people are not Bangladeshis! They could be from Assam, Meghalaya, Tripura, West Benga…',\n",
       " 'truncated': False,\n",
       " 'metadata': {'iso_language_code': 'en', 'result_type': 'recent'},\n",
       " 'source': '<a href=\"http://twitter.com/download/android\" rel=\"nofollow\">Twitter for Android</a>',\n",
       " 'in_reply_to_status_id': None,\n",
       " 'in_reply_to_status_id_str': None,\n",
       " 'in_reply_to_user_id': None,\n",
       " 'in_reply_to_user_id_str': None,\n",
       " 'in_reply_to_screen_name': None,\n",
       " 'user': {'id': 384314150,\n",
       "  'id_str': '384314150',\n",
       "  'name': 'حشمت الصديق',\n",
       "  'screen_name': 'Hashmathmaimi',\n",
       "  'location': 'المكان المقصود الجنة الفردوس',\n",
       "  'description': '| Citizens Journalist | | Teacher | | Entrepreneur| | Visionary | | MTKNWGL | | 4 🌟 Project |',\n",
       "  'url': 'https://t.co/0by02y7Yjo',\n",
       "  'entities': {'url': {'urls': [{'url': 'https://t.co/0by02y7Yjo',\n",
       "      'expanded_url': 'http://www.hashmathalsiddique.com',\n",
       "      'display_url': 'hashmathalsiddique.com',\n",
       "      'indices': [0, 23]}]},\n",
       "   'description': {'urls': []}},\n",
       "  'protected': False,\n",
       "  'followers_count': 60,\n",
       "  'friends_count': 185,\n",
       "  'listed_count': 0,\n",
       "  'created_at': 'Mon Oct 03 13:28:01 +0000 2011',\n",
       "  'favourites_count': 2178,\n",
       "  'utc_offset': None,\n",
       "  'time_zone': None,\n",
       "  'geo_enabled': True,\n",
       "  'verified': False,\n",
       "  'statuses_count': 3372,\n",
       "  'lang': None,\n",
       "  'contributors_enabled': False,\n",
       "  'is_translator': False,\n",
       "  'is_translation_enabled': False,\n",
       "  'profile_background_color': 'BADFCD',\n",
       "  'profile_background_image_url': 'http://abs.twimg.com/images/themes/theme12/bg.gif',\n",
       "  'profile_background_image_url_https': 'https://abs.twimg.com/images/themes/theme12/bg.gif',\n",
       "  'profile_background_tile': True,\n",
       "  'profile_image_url': 'http://abs.twimg.com/sticky/default_profile_images/default_profile_normal.png',\n",
       "  'profile_image_url_https': 'https://abs.twimg.com/sticky/default_profile_images/default_profile_normal.png',\n",
       "  'profile_link_color': '19CF86',\n",
       "  'profile_sidebar_border_color': 'F2E195',\n",
       "  'profile_sidebar_fill_color': 'FFF7CC',\n",
       "  'profile_text_color': '0C3E53',\n",
       "  'profile_use_background_image': True,\n",
       "  'has_extended_profile': False,\n",
       "  'default_profile': False,\n",
       "  'default_profile_image': True,\n",
       "  'following': False,\n",
       "  'follow_request_sent': False,\n",
       "  'notifications': False,\n",
       "  'translator_type': 'none'},\n",
       " 'geo': None,\n",
       " 'coordinates': None,\n",
       " 'place': None,\n",
       " 'contributors': None,\n",
       " 'retweeted_status': {'created_at': 'Tue Jan 21 15:19:22 +0000 2020',\n",
       "  'id': 1219640636309151744,\n",
       "  'id_str': '1219640636309151744',\n",
       "  'text': 'Dear rest of India, all Bengali speaking people are not Bangladeshis! They could be from Assam, Meghalaya, Tripura,… https://t.co/L7wpwAPe0V',\n",
       "  'truncated': True,\n",
       "  'metadata': {'iso_language_code': 'en', 'result_type': 'recent'},\n",
       "  'source': '<a href=\"http://twitter.com/download/android\" rel=\"nofollow\">Twitter for Android</a>',\n",
       "  'in_reply_to_status_id': None,\n",
       "  'in_reply_to_status_id_str': None,\n",
       "  'in_reply_to_user_id': None,\n",
       "  'in_reply_to_user_id_str': None,\n",
       "  'in_reply_to_screen_name': None,\n",
       "  'user': {'id': 28114735,\n",
       "   'id_str': '28114735',\n",
       "   'name': 'vijaita singh',\n",
       "   'screen_name': 'vijaita',\n",
       "   'location': 'New Delhi, Kolkata, Ballia ',\n",
       "   'description': 'Journalist',\n",
       "   'url': 'https://t.co/qOa9sJbvN8',\n",
       "   'entities': {'url': {'urls': [{'url': 'https://t.co/qOa9sJbvN8',\n",
       "       'expanded_url': 'http://www.thehindu.com/profile/author/vijaita-singh/',\n",
       "       'display_url': 'thehindu.com/profile/author…',\n",
       "       'indices': [0, 23]}]},\n",
       "    'description': {'urls': []}},\n",
       "   'protected': False,\n",
       "   'followers_count': 78275,\n",
       "   'friends_count': 2010,\n",
       "   'listed_count': 262,\n",
       "   'created_at': 'Wed Apr 01 14:24:06 +0000 2009',\n",
       "   'favourites_count': 6235,\n",
       "   'utc_offset': None,\n",
       "   'time_zone': None,\n",
       "   'geo_enabled': True,\n",
       "   'verified': True,\n",
       "   'statuses_count': 21906,\n",
       "   'lang': None,\n",
       "   'contributors_enabled': False,\n",
       "   'is_translator': False,\n",
       "   'is_translation_enabled': False,\n",
       "   'profile_background_color': 'C0DEED',\n",
       "   'profile_background_image_url': 'http://abs.twimg.com/images/themes/theme1/bg.png',\n",
       "   'profile_background_image_url_https': 'https://abs.twimg.com/images/themes/theme1/bg.png',\n",
       "   'profile_background_tile': False,\n",
       "   'profile_image_url': 'http://pbs.twimg.com/profile_images/1219134638611783681/vCFe833I_normal.jpg',\n",
       "   'profile_image_url_https': 'https://pbs.twimg.com/profile_images/1219134638611783681/vCFe833I_normal.jpg',\n",
       "   'profile_banner_url': 'https://pbs.twimg.com/profile_banners/28114735/1558181481',\n",
       "   'profile_link_color': '1DA1F2',\n",
       "   'profile_sidebar_border_color': 'C0DEED',\n",
       "   'profile_sidebar_fill_color': 'DDEEF6',\n",
       "   'profile_text_color': '333333',\n",
       "   'profile_use_background_image': True,\n",
       "   'has_extended_profile': False,\n",
       "   'default_profile': True,\n",
       "   'default_profile_image': False,\n",
       "   'following': False,\n",
       "   'follow_request_sent': False,\n",
       "   'notifications': False,\n",
       "   'translator_type': 'none'},\n",
       "  'geo': None,\n",
       "  'coordinates': None,\n",
       "  'place': None,\n",
       "  'contributors': None,\n",
       "  'is_quote_status': False,\n",
       "  'retweet_count': 742,\n",
       "  'favorite_count': 2825,\n",
       "  'favorited': False,\n",
       "  'retweeted': False,\n",
       "  'lang': 'en'},\n",
       " 'is_quote_status': False,\n",
       " 'retweet_count': 742,\n",
       " 'favorite_count': 0,\n",
       " 'favorited': False,\n",
       " 'retweeted': False,\n",
       " 'lang': 'en'}"
      ]
     },
     "execution_count": 11,
     "metadata": {},
     "output_type": "execute_result"
    }
   ],
   "source": [
    "results[0]"
   ]
  },
  {
   "cell_type": "markdown",
   "metadata": {},
   "source": [
    "We're going to use the pandas library for flattening this data"
   ]
  },
  {
   "cell_type": "code",
   "execution_count": 14,
   "metadata": {},
   "outputs": [],
   "source": [
    "import pandas as pd"
   ]
  },
  {
   "cell_type": "code",
   "execution_count": 15,
   "metadata": {},
   "outputs": [],
   "source": [
    "df = pd.io.json.json_normalize(results)"
   ]
  },
  {
   "cell_type": "markdown",
   "metadata": {},
   "source": [
    "These are the column names for the data we've obtained."
   ]
  },
  {
   "cell_type": "code",
   "execution_count": 16,
   "metadata": {},
   "outputs": [
    {
     "data": {
      "text/plain": [
       "Index(['created_at', 'id', 'id_str', 'text', 'truncated', 'source',\n",
       "       'in_reply_to_status_id', 'in_reply_to_status_id_str',\n",
       "       'in_reply_to_user_id', 'in_reply_to_user_id_str',\n",
       "       ...\n",
       "       'quoted_status.place.country', 'quoted_status.place.contained_within',\n",
       "       'quoted_status.place.bounding_box.type',\n",
       "       'quoted_status.place.bounding_box.coordinates', 'withheld_in_countries',\n",
       "       'user.withheld_in_countries', 'geo.type', 'geo.coordinates',\n",
       "       'coordinates.type', 'coordinates.coordinates'],\n",
       "      dtype='object', length=324)"
      ]
     },
     "execution_count": 16,
     "metadata": {},
     "output_type": "execute_result"
    }
   ],
   "source": [
    "df.columns"
   ]
  },
  {
   "cell_type": "markdown",
   "metadata": {},
   "source": [
    "Here's a view of our data"
   ]
  },
  {
   "cell_type": "code",
   "execution_count": 17,
   "metadata": {
    "scrolled": false
   },
   "outputs": [
    {
     "data": {
      "text/html": [
       "<div>\n",
       "<style scoped>\n",
       "    .dataframe tbody tr th:only-of-type {\n",
       "        vertical-align: middle;\n",
       "    }\n",
       "\n",
       "    .dataframe tbody tr th {\n",
       "        vertical-align: top;\n",
       "    }\n",
       "\n",
       "    .dataframe thead th {\n",
       "        text-align: right;\n",
       "    }\n",
       "</style>\n",
       "<table border=\"1\" class=\"dataframe\">\n",
       "  <thead>\n",
       "    <tr style=\"text-align: right;\">\n",
       "      <th></th>\n",
       "      <th>created_at</th>\n",
       "      <th>id</th>\n",
       "      <th>id_str</th>\n",
       "      <th>text</th>\n",
       "      <th>truncated</th>\n",
       "      <th>source</th>\n",
       "      <th>in_reply_to_status_id</th>\n",
       "      <th>in_reply_to_status_id_str</th>\n",
       "      <th>in_reply_to_user_id</th>\n",
       "      <th>in_reply_to_user_id_str</th>\n",
       "      <th>...</th>\n",
       "      <th>quoted_status.place.country</th>\n",
       "      <th>quoted_status.place.contained_within</th>\n",
       "      <th>quoted_status.place.bounding_box.type</th>\n",
       "      <th>quoted_status.place.bounding_box.coordinates</th>\n",
       "      <th>withheld_in_countries</th>\n",
       "      <th>user.withheld_in_countries</th>\n",
       "      <th>geo.type</th>\n",
       "      <th>geo.coordinates</th>\n",
       "      <th>coordinates.type</th>\n",
       "      <th>coordinates.coordinates</th>\n",
       "    </tr>\n",
       "  </thead>\n",
       "  <tbody>\n",
       "    <tr>\n",
       "      <td>0</td>\n",
       "      <td>Tue Jan 21 20:37:25 +0000 2020</td>\n",
       "      <td>1219720675797041152</td>\n",
       "      <td>1219720675797041152</td>\n",
       "      <td>RT @vijaita: Dear rest of India, all Bengali s...</td>\n",
       "      <td>False</td>\n",
       "      <td>&lt;a href=\"http://twitter.com/download/android\" ...</td>\n",
       "      <td>NaN</td>\n",
       "      <td>None</td>\n",
       "      <td>NaN</td>\n",
       "      <td>None</td>\n",
       "      <td>...</td>\n",
       "      <td>NaN</td>\n",
       "      <td>NaN</td>\n",
       "      <td>NaN</td>\n",
       "      <td>NaN</td>\n",
       "      <td>NaN</td>\n",
       "      <td>NaN</td>\n",
       "      <td>NaN</td>\n",
       "      <td>NaN</td>\n",
       "      <td>NaN</td>\n",
       "      <td>NaN</td>\n",
       "    </tr>\n",
       "    <tr>\n",
       "      <td>1</td>\n",
       "      <td>Tue Jan 21 20:36:18 +0000 2020</td>\n",
       "      <td>1219720397387513856</td>\n",
       "      <td>1219720397387513856</td>\n",
       "      <td>the xenophobia in the replies makes me sad htt...</td>\n",
       "      <td>False</td>\n",
       "      <td>&lt;a href=\"https://mobile.twitter.com\" rel=\"nofo...</td>\n",
       "      <td>NaN</td>\n",
       "      <td>None</td>\n",
       "      <td>NaN</td>\n",
       "      <td>None</td>\n",
       "      <td>...</td>\n",
       "      <td>NaN</td>\n",
       "      <td>NaN</td>\n",
       "      <td>NaN</td>\n",
       "      <td>NaN</td>\n",
       "      <td>NaN</td>\n",
       "      <td>NaN</td>\n",
       "      <td>NaN</td>\n",
       "      <td>NaN</td>\n",
       "      <td>NaN</td>\n",
       "      <td>NaN</td>\n",
       "    </tr>\n",
       "    <tr>\n",
       "      <td>2</td>\n",
       "      <td>Tue Jan 21 20:36:07 +0000 2020</td>\n",
       "      <td>1219720349467709442</td>\n",
       "      <td>1219720349467709442</td>\n",
       "      <td>RT @PlisskenVon: Meanwhile, the left have weap...</td>\n",
       "      <td>False</td>\n",
       "      <td>&lt;a href=\"https://twitterrific.com/ios\" rel=\"no...</td>\n",
       "      <td>NaN</td>\n",
       "      <td>None</td>\n",
       "      <td>NaN</td>\n",
       "      <td>None</td>\n",
       "      <td>...</td>\n",
       "      <td>NaN</td>\n",
       "      <td>NaN</td>\n",
       "      <td>NaN</td>\n",
       "      <td>NaN</td>\n",
       "      <td>NaN</td>\n",
       "      <td>NaN</td>\n",
       "      <td>NaN</td>\n",
       "      <td>NaN</td>\n",
       "      <td>NaN</td>\n",
       "      <td>NaN</td>\n",
       "    </tr>\n",
       "    <tr>\n",
       "      <td>3</td>\n",
       "      <td>Tue Jan 21 20:35:08 +0000 2020</td>\n",
       "      <td>1219720100997222402</td>\n",
       "      <td>1219720100997222402</td>\n",
       "      <td>@mkasim_13 @ScottySacam97 Yes because finding ...</td>\n",
       "      <td>True</td>\n",
       "      <td>&lt;a href=\"https://mobile.twitter.com\" rel=\"nofo...</td>\n",
       "      <td>1.219719e+18</td>\n",
       "      <td>1219719138651922433</td>\n",
       "      <td>1.215362e+18</td>\n",
       "      <td>1215362483080323079</td>\n",
       "      <td>...</td>\n",
       "      <td>NaN</td>\n",
       "      <td>NaN</td>\n",
       "      <td>NaN</td>\n",
       "      <td>NaN</td>\n",
       "      <td>NaN</td>\n",
       "      <td>NaN</td>\n",
       "      <td>NaN</td>\n",
       "      <td>NaN</td>\n",
       "      <td>NaN</td>\n",
       "      <td>NaN</td>\n",
       "    </tr>\n",
       "    <tr>\n",
       "      <td>4</td>\n",
       "      <td>Tue Jan 21 20:34:33 +0000 2020</td>\n",
       "      <td>1219719957065261056</td>\n",
       "      <td>1219719957065261056</td>\n",
       "      <td>Know how sometimes you see shocking amounts of...</td>\n",
       "      <td>True</td>\n",
       "      <td>&lt;a href=\"http://twitter.com/download/iphone\" r...</td>\n",
       "      <td>NaN</td>\n",
       "      <td>None</td>\n",
       "      <td>NaN</td>\n",
       "      <td>None</td>\n",
       "      <td>...</td>\n",
       "      <td>NaN</td>\n",
       "      <td>NaN</td>\n",
       "      <td>NaN</td>\n",
       "      <td>NaN</td>\n",
       "      <td>NaN</td>\n",
       "      <td>NaN</td>\n",
       "      <td>NaN</td>\n",
       "      <td>NaN</td>\n",
       "      <td>NaN</td>\n",
       "      <td>NaN</td>\n",
       "    </tr>\n",
       "  </tbody>\n",
       "</table>\n",
       "<p>5 rows × 324 columns</p>\n",
       "</div>"
      ],
      "text/plain": [
       "                       created_at                   id               id_str  \\\n",
       "0  Tue Jan 21 20:37:25 +0000 2020  1219720675797041152  1219720675797041152   \n",
       "1  Tue Jan 21 20:36:18 +0000 2020  1219720397387513856  1219720397387513856   \n",
       "2  Tue Jan 21 20:36:07 +0000 2020  1219720349467709442  1219720349467709442   \n",
       "3  Tue Jan 21 20:35:08 +0000 2020  1219720100997222402  1219720100997222402   \n",
       "4  Tue Jan 21 20:34:33 +0000 2020  1219719957065261056  1219719957065261056   \n",
       "\n",
       "                                                text  truncated  \\\n",
       "0  RT @vijaita: Dear rest of India, all Bengali s...      False   \n",
       "1  the xenophobia in the replies makes me sad htt...      False   \n",
       "2  RT @PlisskenVon: Meanwhile, the left have weap...      False   \n",
       "3  @mkasim_13 @ScottySacam97 Yes because finding ...       True   \n",
       "4  Know how sometimes you see shocking amounts of...       True   \n",
       "\n",
       "                                              source  in_reply_to_status_id  \\\n",
       "0  <a href=\"http://twitter.com/download/android\" ...                    NaN   \n",
       "1  <a href=\"https://mobile.twitter.com\" rel=\"nofo...                    NaN   \n",
       "2  <a href=\"https://twitterrific.com/ios\" rel=\"no...                    NaN   \n",
       "3  <a href=\"https://mobile.twitter.com\" rel=\"nofo...           1.219719e+18   \n",
       "4  <a href=\"http://twitter.com/download/iphone\" r...                    NaN   \n",
       "\n",
       "  in_reply_to_status_id_str  in_reply_to_user_id in_reply_to_user_id_str  ...  \\\n",
       "0                      None                  NaN                    None  ...   \n",
       "1                      None                  NaN                    None  ...   \n",
       "2                      None                  NaN                    None  ...   \n",
       "3       1219719138651922433         1.215362e+18     1215362483080323079  ...   \n",
       "4                      None                  NaN                    None  ...   \n",
       "\n",
       "  quoted_status.place.country  quoted_status.place.contained_within  \\\n",
       "0                         NaN                                   NaN   \n",
       "1                         NaN                                   NaN   \n",
       "2                         NaN                                   NaN   \n",
       "3                         NaN                                   NaN   \n",
       "4                         NaN                                   NaN   \n",
       "\n",
       "   quoted_status.place.bounding_box.type  \\\n",
       "0                                    NaN   \n",
       "1                                    NaN   \n",
       "2                                    NaN   \n",
       "3                                    NaN   \n",
       "4                                    NaN   \n",
       "\n",
       "   quoted_status.place.bounding_box.coordinates withheld_in_countries  \\\n",
       "0                                           NaN                   NaN   \n",
       "1                                           NaN                   NaN   \n",
       "2                                           NaN                   NaN   \n",
       "3                                           NaN                   NaN   \n",
       "4                                           NaN                   NaN   \n",
       "\n",
       "   user.withheld_in_countries  geo.type  geo.coordinates  coordinates.type  \\\n",
       "0                         NaN       NaN              NaN               NaN   \n",
       "1                         NaN       NaN              NaN               NaN   \n",
       "2                         NaN       NaN              NaN               NaN   \n",
       "3                         NaN       NaN              NaN               NaN   \n",
       "4                         NaN       NaN              NaN               NaN   \n",
       "\n",
       "   coordinates.coordinates  \n",
       "0                      NaN  \n",
       "1                      NaN  \n",
       "2                      NaN  \n",
       "3                      NaN  \n",
       "4                      NaN  \n",
       "\n",
       "[5 rows x 324 columns]"
      ]
     },
     "execution_count": 17,
     "metadata": {},
     "output_type": "execute_result"
    }
   ],
   "source": [
    "df.head()"
   ]
  },
  {
   "cell_type": "markdown",
   "metadata": {},
   "source": [
    "To give a more meaningful identifier to each row than the currently used automatically generated row number, we're going to use the unique tweet id column. We're also going to drop the 'id_str' columns since it's the string representation of the same tweet id."
   ]
  },
  {
   "cell_type": "code",
   "execution_count": 18,
   "metadata": {},
   "outputs": [],
   "source": [
    "df.set_index('id',drop=True,inplace=True)\n",
    "df.drop('id_str',axis=1,inplace=True)"
   ]
  },
  {
   "cell_type": "markdown",
   "metadata": {},
   "source": [
    "Our dataframe now looks like this:"
   ]
  },
  {
   "cell_type": "code",
   "execution_count": 19,
   "metadata": {},
   "outputs": [
    {
     "data": {
      "text/html": [
       "<div>\n",
       "<style scoped>\n",
       "    .dataframe tbody tr th:only-of-type {\n",
       "        vertical-align: middle;\n",
       "    }\n",
       "\n",
       "    .dataframe tbody tr th {\n",
       "        vertical-align: top;\n",
       "    }\n",
       "\n",
       "    .dataframe thead th {\n",
       "        text-align: right;\n",
       "    }\n",
       "</style>\n",
       "<table border=\"1\" class=\"dataframe\">\n",
       "  <thead>\n",
       "    <tr style=\"text-align: right;\">\n",
       "      <th></th>\n",
       "      <th>created_at</th>\n",
       "      <th>text</th>\n",
       "      <th>truncated</th>\n",
       "      <th>source</th>\n",
       "      <th>in_reply_to_status_id</th>\n",
       "      <th>in_reply_to_status_id_str</th>\n",
       "      <th>in_reply_to_user_id</th>\n",
       "      <th>in_reply_to_user_id_str</th>\n",
       "      <th>in_reply_to_screen_name</th>\n",
       "      <th>geo</th>\n",
       "      <th>...</th>\n",
       "      <th>quoted_status.place.country</th>\n",
       "      <th>quoted_status.place.contained_within</th>\n",
       "      <th>quoted_status.place.bounding_box.type</th>\n",
       "      <th>quoted_status.place.bounding_box.coordinates</th>\n",
       "      <th>withheld_in_countries</th>\n",
       "      <th>user.withheld_in_countries</th>\n",
       "      <th>geo.type</th>\n",
       "      <th>geo.coordinates</th>\n",
       "      <th>coordinates.type</th>\n",
       "      <th>coordinates.coordinates</th>\n",
       "    </tr>\n",
       "    <tr>\n",
       "      <th>id</th>\n",
       "      <th></th>\n",
       "      <th></th>\n",
       "      <th></th>\n",
       "      <th></th>\n",
       "      <th></th>\n",
       "      <th></th>\n",
       "      <th></th>\n",
       "      <th></th>\n",
       "      <th></th>\n",
       "      <th></th>\n",
       "      <th></th>\n",
       "      <th></th>\n",
       "      <th></th>\n",
       "      <th></th>\n",
       "      <th></th>\n",
       "      <th></th>\n",
       "      <th></th>\n",
       "      <th></th>\n",
       "      <th></th>\n",
       "      <th></th>\n",
       "      <th></th>\n",
       "    </tr>\n",
       "  </thead>\n",
       "  <tbody>\n",
       "    <tr>\n",
       "      <td>1219720675797041152</td>\n",
       "      <td>Tue Jan 21 20:37:25 +0000 2020</td>\n",
       "      <td>RT @vijaita: Dear rest of India, all Bengali s...</td>\n",
       "      <td>False</td>\n",
       "      <td>&lt;a href=\"http://twitter.com/download/android\" ...</td>\n",
       "      <td>NaN</td>\n",
       "      <td>None</td>\n",
       "      <td>NaN</td>\n",
       "      <td>None</td>\n",
       "      <td>None</td>\n",
       "      <td>NaN</td>\n",
       "      <td>...</td>\n",
       "      <td>NaN</td>\n",
       "      <td>NaN</td>\n",
       "      <td>NaN</td>\n",
       "      <td>NaN</td>\n",
       "      <td>NaN</td>\n",
       "      <td>NaN</td>\n",
       "      <td>NaN</td>\n",
       "      <td>NaN</td>\n",
       "      <td>NaN</td>\n",
       "      <td>NaN</td>\n",
       "    </tr>\n",
       "    <tr>\n",
       "      <td>1219720397387513856</td>\n",
       "      <td>Tue Jan 21 20:36:18 +0000 2020</td>\n",
       "      <td>the xenophobia in the replies makes me sad htt...</td>\n",
       "      <td>False</td>\n",
       "      <td>&lt;a href=\"https://mobile.twitter.com\" rel=\"nofo...</td>\n",
       "      <td>NaN</td>\n",
       "      <td>None</td>\n",
       "      <td>NaN</td>\n",
       "      <td>None</td>\n",
       "      <td>None</td>\n",
       "      <td>NaN</td>\n",
       "      <td>...</td>\n",
       "      <td>NaN</td>\n",
       "      <td>NaN</td>\n",
       "      <td>NaN</td>\n",
       "      <td>NaN</td>\n",
       "      <td>NaN</td>\n",
       "      <td>NaN</td>\n",
       "      <td>NaN</td>\n",
       "      <td>NaN</td>\n",
       "      <td>NaN</td>\n",
       "      <td>NaN</td>\n",
       "    </tr>\n",
       "    <tr>\n",
       "      <td>1219720349467709442</td>\n",
       "      <td>Tue Jan 21 20:36:07 +0000 2020</td>\n",
       "      <td>RT @PlisskenVon: Meanwhile, the left have weap...</td>\n",
       "      <td>False</td>\n",
       "      <td>&lt;a href=\"https://twitterrific.com/ios\" rel=\"no...</td>\n",
       "      <td>NaN</td>\n",
       "      <td>None</td>\n",
       "      <td>NaN</td>\n",
       "      <td>None</td>\n",
       "      <td>None</td>\n",
       "      <td>NaN</td>\n",
       "      <td>...</td>\n",
       "      <td>NaN</td>\n",
       "      <td>NaN</td>\n",
       "      <td>NaN</td>\n",
       "      <td>NaN</td>\n",
       "      <td>NaN</td>\n",
       "      <td>NaN</td>\n",
       "      <td>NaN</td>\n",
       "      <td>NaN</td>\n",
       "      <td>NaN</td>\n",
       "      <td>NaN</td>\n",
       "    </tr>\n",
       "    <tr>\n",
       "      <td>1219720100997222402</td>\n",
       "      <td>Tue Jan 21 20:35:08 +0000 2020</td>\n",
       "      <td>@mkasim_13 @ScottySacam97 Yes because finding ...</td>\n",
       "      <td>True</td>\n",
       "      <td>&lt;a href=\"https://mobile.twitter.com\" rel=\"nofo...</td>\n",
       "      <td>1.219719e+18</td>\n",
       "      <td>1219719138651922433</td>\n",
       "      <td>1.215362e+18</td>\n",
       "      <td>1215362483080323079</td>\n",
       "      <td>mkasim_13</td>\n",
       "      <td>NaN</td>\n",
       "      <td>...</td>\n",
       "      <td>NaN</td>\n",
       "      <td>NaN</td>\n",
       "      <td>NaN</td>\n",
       "      <td>NaN</td>\n",
       "      <td>NaN</td>\n",
       "      <td>NaN</td>\n",
       "      <td>NaN</td>\n",
       "      <td>NaN</td>\n",
       "      <td>NaN</td>\n",
       "      <td>NaN</td>\n",
       "    </tr>\n",
       "    <tr>\n",
       "      <td>1219719957065261056</td>\n",
       "      <td>Tue Jan 21 20:34:33 +0000 2020</td>\n",
       "      <td>Know how sometimes you see shocking amounts of...</td>\n",
       "      <td>True</td>\n",
       "      <td>&lt;a href=\"http://twitter.com/download/iphone\" r...</td>\n",
       "      <td>NaN</td>\n",
       "      <td>None</td>\n",
       "      <td>NaN</td>\n",
       "      <td>None</td>\n",
       "      <td>None</td>\n",
       "      <td>NaN</td>\n",
       "      <td>...</td>\n",
       "      <td>NaN</td>\n",
       "      <td>NaN</td>\n",
       "      <td>NaN</td>\n",
       "      <td>NaN</td>\n",
       "      <td>NaN</td>\n",
       "      <td>NaN</td>\n",
       "      <td>NaN</td>\n",
       "      <td>NaN</td>\n",
       "      <td>NaN</td>\n",
       "      <td>NaN</td>\n",
       "    </tr>\n",
       "  </tbody>\n",
       "</table>\n",
       "<p>5 rows × 322 columns</p>\n",
       "</div>"
      ],
      "text/plain": [
       "                                         created_at  \\\n",
       "id                                                    \n",
       "1219720675797041152  Tue Jan 21 20:37:25 +0000 2020   \n",
       "1219720397387513856  Tue Jan 21 20:36:18 +0000 2020   \n",
       "1219720349467709442  Tue Jan 21 20:36:07 +0000 2020   \n",
       "1219720100997222402  Tue Jan 21 20:35:08 +0000 2020   \n",
       "1219719957065261056  Tue Jan 21 20:34:33 +0000 2020   \n",
       "\n",
       "                                                                  text  \\\n",
       "id                                                                       \n",
       "1219720675797041152  RT @vijaita: Dear rest of India, all Bengali s...   \n",
       "1219720397387513856  the xenophobia in the replies makes me sad htt...   \n",
       "1219720349467709442  RT @PlisskenVon: Meanwhile, the left have weap...   \n",
       "1219720100997222402  @mkasim_13 @ScottySacam97 Yes because finding ...   \n",
       "1219719957065261056  Know how sometimes you see shocking amounts of...   \n",
       "\n",
       "                     truncated  \\\n",
       "id                               \n",
       "1219720675797041152      False   \n",
       "1219720397387513856      False   \n",
       "1219720349467709442      False   \n",
       "1219720100997222402       True   \n",
       "1219719957065261056       True   \n",
       "\n",
       "                                                                source  \\\n",
       "id                                                                       \n",
       "1219720675797041152  <a href=\"http://twitter.com/download/android\" ...   \n",
       "1219720397387513856  <a href=\"https://mobile.twitter.com\" rel=\"nofo...   \n",
       "1219720349467709442  <a href=\"https://twitterrific.com/ios\" rel=\"no...   \n",
       "1219720100997222402  <a href=\"https://mobile.twitter.com\" rel=\"nofo...   \n",
       "1219719957065261056  <a href=\"http://twitter.com/download/iphone\" r...   \n",
       "\n",
       "                     in_reply_to_status_id in_reply_to_status_id_str  \\\n",
       "id                                                                     \n",
       "1219720675797041152                    NaN                      None   \n",
       "1219720397387513856                    NaN                      None   \n",
       "1219720349467709442                    NaN                      None   \n",
       "1219720100997222402           1.219719e+18       1219719138651922433   \n",
       "1219719957065261056                    NaN                      None   \n",
       "\n",
       "                     in_reply_to_user_id in_reply_to_user_id_str  \\\n",
       "id                                                                 \n",
       "1219720675797041152                  NaN                    None   \n",
       "1219720397387513856                  NaN                    None   \n",
       "1219720349467709442                  NaN                    None   \n",
       "1219720100997222402         1.215362e+18     1215362483080323079   \n",
       "1219719957065261056                  NaN                    None   \n",
       "\n",
       "                    in_reply_to_screen_name  geo  ...  \\\n",
       "id                                                ...   \n",
       "1219720675797041152                    None  NaN  ...   \n",
       "1219720397387513856                    None  NaN  ...   \n",
       "1219720349467709442                    None  NaN  ...   \n",
       "1219720100997222402               mkasim_13  NaN  ...   \n",
       "1219719957065261056                    None  NaN  ...   \n",
       "\n",
       "                     quoted_status.place.country  \\\n",
       "id                                                 \n",
       "1219720675797041152                          NaN   \n",
       "1219720397387513856                          NaN   \n",
       "1219720349467709442                          NaN   \n",
       "1219720100997222402                          NaN   \n",
       "1219719957065261056                          NaN   \n",
       "\n",
       "                     quoted_status.place.contained_within  \\\n",
       "id                                                          \n",
       "1219720675797041152                                   NaN   \n",
       "1219720397387513856                                   NaN   \n",
       "1219720349467709442                                   NaN   \n",
       "1219720100997222402                                   NaN   \n",
       "1219719957065261056                                   NaN   \n",
       "\n",
       "                    quoted_status.place.bounding_box.type  \\\n",
       "id                                                          \n",
       "1219720675797041152                                   NaN   \n",
       "1219720397387513856                                   NaN   \n",
       "1219720349467709442                                   NaN   \n",
       "1219720100997222402                                   NaN   \n",
       "1219719957065261056                                   NaN   \n",
       "\n",
       "                     quoted_status.place.bounding_box.coordinates  \\\n",
       "id                                                                  \n",
       "1219720675797041152                                           NaN   \n",
       "1219720397387513856                                           NaN   \n",
       "1219720349467709442                                           NaN   \n",
       "1219720100997222402                                           NaN   \n",
       "1219719957065261056                                           NaN   \n",
       "\n",
       "                     withheld_in_countries  user.withheld_in_countries  \\\n",
       "id                                                                       \n",
       "1219720675797041152                    NaN                         NaN   \n",
       "1219720397387513856                    NaN                         NaN   \n",
       "1219720349467709442                    NaN                         NaN   \n",
       "1219720100997222402                    NaN                         NaN   \n",
       "1219719957065261056                    NaN                         NaN   \n",
       "\n",
       "                     geo.type  geo.coordinates coordinates.type  \\\n",
       "id                                                                \n",
       "1219720675797041152       NaN              NaN              NaN   \n",
       "1219720397387513856       NaN              NaN              NaN   \n",
       "1219720349467709442       NaN              NaN              NaN   \n",
       "1219720100997222402       NaN              NaN              NaN   \n",
       "1219719957065261056       NaN              NaN              NaN   \n",
       "\n",
       "                    coordinates.coordinates  \n",
       "id                                           \n",
       "1219720675797041152                     NaN  \n",
       "1219720397387513856                     NaN  \n",
       "1219720349467709442                     NaN  \n",
       "1219720100997222402                     NaN  \n",
       "1219719957065261056                     NaN  \n",
       "\n",
       "[5 rows x 322 columns]"
      ]
     },
     "execution_count": 19,
     "metadata": {},
     "output_type": "execute_result"
    }
   ],
   "source": [
    "df.head()"
   ]
  },
  {
   "cell_type": "markdown",
   "metadata": {},
   "source": [
    "A view of a subset of columns would be useful here. Let's look at the date the tweet was created, the user screen name and the text of the tweet."
   ]
  },
  {
   "cell_type": "code",
   "execution_count": 20,
   "metadata": {},
   "outputs": [
    {
     "data": {
      "text/html": [
       "<div>\n",
       "<style scoped>\n",
       "    .dataframe tbody tr th:only-of-type {\n",
       "        vertical-align: middle;\n",
       "    }\n",
       "\n",
       "    .dataframe tbody tr th {\n",
       "        vertical-align: top;\n",
       "    }\n",
       "\n",
       "    .dataframe thead th {\n",
       "        text-align: right;\n",
       "    }\n",
       "</style>\n",
       "<table border=\"1\" class=\"dataframe\">\n",
       "  <thead>\n",
       "    <tr style=\"text-align: right;\">\n",
       "      <th></th>\n",
       "      <th>created_at</th>\n",
       "      <th>user.screen_name</th>\n",
       "      <th>text</th>\n",
       "    </tr>\n",
       "    <tr>\n",
       "      <th>id</th>\n",
       "      <th></th>\n",
       "      <th></th>\n",
       "      <th></th>\n",
       "    </tr>\n",
       "  </thead>\n",
       "  <tbody>\n",
       "    <tr>\n",
       "      <td>1219720675797041152</td>\n",
       "      <td>Tue Jan 21 20:37:25 +0000 2020</td>\n",
       "      <td>Hashmathmaimi</td>\n",
       "      <td>RT @vijaita: Dear rest of India, all Bengali s...</td>\n",
       "    </tr>\n",
       "    <tr>\n",
       "      <td>1219720397387513856</td>\n",
       "      <td>Tue Jan 21 20:36:18 +0000 2020</td>\n",
       "      <td>LVNTRHYUNJIN</td>\n",
       "      <td>the xenophobia in the replies makes me sad htt...</td>\n",
       "    </tr>\n",
       "    <tr>\n",
       "      <td>1219720349467709442</td>\n",
       "      <td>Tue Jan 21 20:36:07 +0000 2020</td>\n",
       "      <td>merc5555</td>\n",
       "      <td>RT @PlisskenVon: Meanwhile, the left have weap...</td>\n",
       "    </tr>\n",
       "    <tr>\n",
       "      <td>1219720100997222402</td>\n",
       "      <td>Tue Jan 21 20:35:08 +0000 2020</td>\n",
       "      <td>comets_shadows</td>\n",
       "      <td>@mkasim_13 @ScottySacam97 Yes because finding ...</td>\n",
       "    </tr>\n",
       "    <tr>\n",
       "      <td>1219719957065261056</td>\n",
       "      <td>Tue Jan 21 20:34:33 +0000 2020</td>\n",
       "      <td>JeremyMcGovern</td>\n",
       "      <td>Know how sometimes you see shocking amounts of...</td>\n",
       "    </tr>\n",
       "  </tbody>\n",
       "</table>\n",
       "</div>"
      ],
      "text/plain": [
       "                                         created_at user.screen_name  \\\n",
       "id                                                                     \n",
       "1219720675797041152  Tue Jan 21 20:37:25 +0000 2020    Hashmathmaimi   \n",
       "1219720397387513856  Tue Jan 21 20:36:18 +0000 2020     LVNTRHYUNJIN   \n",
       "1219720349467709442  Tue Jan 21 20:36:07 +0000 2020         merc5555   \n",
       "1219720100997222402  Tue Jan 21 20:35:08 +0000 2020   comets_shadows   \n",
       "1219719957065261056  Tue Jan 21 20:34:33 +0000 2020   JeremyMcGovern   \n",
       "\n",
       "                                                                  text  \n",
       "id                                                                      \n",
       "1219720675797041152  RT @vijaita: Dear rest of India, all Bengali s...  \n",
       "1219720397387513856  the xenophobia in the replies makes me sad htt...  \n",
       "1219720349467709442  RT @PlisskenVon: Meanwhile, the left have weap...  \n",
       "1219720100997222402  @mkasim_13 @ScottySacam97 Yes because finding ...  \n",
       "1219719957065261056  Know how sometimes you see shocking amounts of...  "
      ]
     },
     "execution_count": 20,
     "metadata": {},
     "output_type": "execute_result"
    }
   ],
   "source": [
    "df[['created_at', 'user.screen_name', 'text']].head()"
   ]
  },
  {
   "cell_type": "markdown",
   "metadata": {},
   "source": [
    "Also, let's look at how much data we've got. This will return (no_of_rows (tweets), no_of_columns (features/variables) )"
   ]
  },
  {
   "cell_type": "code",
   "execution_count": 21,
   "metadata": {},
   "outputs": [
    {
     "data": {
      "text/plain": [
       "(17998, 322)"
      ]
     },
     "execution_count": 21,
     "metadata": {},
     "output_type": "execute_result"
    }
   ],
   "source": [
    "df.shape"
   ]
  },
  {
   "cell_type": "code",
   "execution_count": 22,
   "metadata": {},
   "outputs": [],
   "source": [
    "df.to_csv('tweets_all.csv')"
   ]
  },
  {
   "cell_type": "markdown",
   "metadata": {},
   "source": [
    "## Process data"
   ]
  },
  {
   "cell_type": "markdown",
   "metadata": {},
   "source": [
    "Now let's look closer at our text."
   ]
  },
  {
   "cell_type": "code",
   "execution_count": 24,
   "metadata": {},
   "outputs": [
    {
     "data": {
      "text/plain": [
       "id\n",
       "1219720675797041152    RT @vijaita: Dear rest of India, all Bengali s...\n",
       "1219720397387513856    the xenophobia in the replies makes me sad htt...\n",
       "1219720349467709442    RT @PlisskenVon: Meanwhile, the left have weap...\n",
       "1219720100997222402    @mkasim_13 @ScottySacam97 Yes because finding ...\n",
       "1219719957065261056    Know how sometimes you see shocking amounts of...\n",
       "1219719795865604096    RT @vijaita: Dear rest of India, all Bengali s...\n",
       "1219719711577006081    RT @MrDominicBuxton: We send £350m to the EU e...\n",
       "1219719625534926848    RT @vijaita: Dear rest of India, all Bengali s...\n",
       "1219719600507482112    @Scavino45 @WhiteHouse @POTUS @realDonaldTrump...\n",
       "1219719528776720390    @philipjdoyle @10DowningStreet @BorisJohnson @...\n",
       "Name: text, dtype: object"
      ]
     },
     "execution_count": 24,
     "metadata": {},
     "output_type": "execute_result"
    }
   ],
   "source": [
    "df['text'].head(n=10)"
   ]
  },
  {
   "cell_type": "markdown",
   "metadata": {},
   "source": [
    "There are several transformations we can apply to facilitate analysis of this text."
   ]
  },
  {
   "cell_type": "markdown",
   "metadata": {},
   "source": [
    "A first step would be excluding twitter handles '@user', new line characters '\\n', whitespaces and hyperlinks."
   ]
  },
  {
   "cell_type": "markdown",
   "metadata": {},
   "source": [
    "Next step would be removing the stopwords - auxiliary words that can be ignored. We're going to use a predefined list of stopwords together with a couple of works such as retweet ('rt')."
   ]
  },
  {
   "cell_type": "code",
   "execution_count": 25,
   "metadata": {},
   "outputs": [
    {
     "name": "stderr",
     "output_type": "stream",
     "text": [
      "[nltk_data] Downloading package punkt to\n",
      "[nltk_data]     C:\\Users\\blmalumi\\AppData\\Roaming\\nltk_data...\n",
      "[nltk_data]   Package punkt is already up-to-date!\n"
     ]
    },
    {
     "data": {
      "text/plain": [
       "True"
      ]
     },
     "execution_count": 25,
     "metadata": {},
     "output_type": "execute_result"
    }
   ],
   "source": [
    "import nltk\n",
    "nltk.download('punkt')\n"
   ]
  },
  {
   "cell_type": "code",
   "execution_count": 26,
   "metadata": {},
   "outputs": [],
   "source": [
    "from nltk.corpus import stopwords"
   ]
  },
  {
   "cell_type": "code",
   "execution_count": 27,
   "metadata": {},
   "outputs": [],
   "source": [
    "additional  = ['rt','rts','retweet'] #we'll store additional stopwords here\n",
    "swords = set().union(stopwords.words('english'),additional) #big list containing all the stopwords + our additional ones"
   ]
  },
  {
   "cell_type": "code",
   "execution_count": 28,
   "metadata": {},
   "outputs": [],
   "source": [
    "df.drop_duplicates(subset='text',inplace=True)"
   ]
  },
  {
   "cell_type": "code",
   "execution_count": 29,
   "metadata": {
    "scrolled": false
   },
   "outputs": [
    {
     "data": {
      "text/plain": [
       "(4371, 322)"
      ]
     },
     "execution_count": 29,
     "metadata": {},
     "output_type": "execute_result"
    }
   ],
   "source": [
    "df.shape"
   ]
  },
  {
   "cell_type": "code",
   "execution_count": 30,
   "metadata": {},
   "outputs": [],
   "source": [
    "df['processed_text'] = df['text'].str.lower()\\\n",
    "          .str.replace('(@[a-z0-9]+)\\w+',' ')\\\n",
    "          .str.replace('(http\\S+)', ' ')\\\n",
    "          .str.replace('([^0-9a-z \\t])',' ')\\\n",
    "          .str.replace(' +',' ')\\\n",
    "          .apply(lambda x: [i for i in x.split() if not i in swords])"
   ]
  },
  {
   "cell_type": "markdown",
   "metadata": {},
   "source": [
    "Here's a list of words we're excluding:"
   ]
  },
  {
   "cell_type": "code",
   "execution_count": 31,
   "metadata": {},
   "outputs": [
    {
     "data": {
      "text/plain": [
       "{'a',\n",
       " 'about',\n",
       " 'above',\n",
       " 'after',\n",
       " 'again',\n",
       " 'against',\n",
       " 'ain',\n",
       " 'all',\n",
       " 'am',\n",
       " 'an',\n",
       " 'and',\n",
       " 'any',\n",
       " 'are',\n",
       " 'aren',\n",
       " \"aren't\",\n",
       " 'as',\n",
       " 'at',\n",
       " 'be',\n",
       " 'because',\n",
       " 'been',\n",
       " 'before',\n",
       " 'being',\n",
       " 'below',\n",
       " 'between',\n",
       " 'both',\n",
       " 'but',\n",
       " 'by',\n",
       " 'can',\n",
       " 'couldn',\n",
       " \"couldn't\",\n",
       " 'd',\n",
       " 'did',\n",
       " 'didn',\n",
       " \"didn't\",\n",
       " 'do',\n",
       " 'does',\n",
       " 'doesn',\n",
       " \"doesn't\",\n",
       " 'doing',\n",
       " 'don',\n",
       " \"don't\",\n",
       " 'down',\n",
       " 'during',\n",
       " 'each',\n",
       " 'few',\n",
       " 'for',\n",
       " 'from',\n",
       " 'further',\n",
       " 'had',\n",
       " 'hadn',\n",
       " \"hadn't\",\n",
       " 'has',\n",
       " 'hasn',\n",
       " \"hasn't\",\n",
       " 'have',\n",
       " 'haven',\n",
       " \"haven't\",\n",
       " 'having',\n",
       " 'he',\n",
       " 'her',\n",
       " 'here',\n",
       " 'hers',\n",
       " 'herself',\n",
       " 'him',\n",
       " 'himself',\n",
       " 'his',\n",
       " 'how',\n",
       " 'i',\n",
       " 'if',\n",
       " 'in',\n",
       " 'into',\n",
       " 'is',\n",
       " 'isn',\n",
       " \"isn't\",\n",
       " 'it',\n",
       " \"it's\",\n",
       " 'its',\n",
       " 'itself',\n",
       " 'just',\n",
       " 'll',\n",
       " 'm',\n",
       " 'ma',\n",
       " 'me',\n",
       " 'mightn',\n",
       " \"mightn't\",\n",
       " 'more',\n",
       " 'most',\n",
       " 'mustn',\n",
       " \"mustn't\",\n",
       " 'my',\n",
       " 'myself',\n",
       " 'needn',\n",
       " \"needn't\",\n",
       " 'no',\n",
       " 'nor',\n",
       " 'not',\n",
       " 'now',\n",
       " 'o',\n",
       " 'of',\n",
       " 'off',\n",
       " 'on',\n",
       " 'once',\n",
       " 'only',\n",
       " 'or',\n",
       " 'other',\n",
       " 'our',\n",
       " 'ours',\n",
       " 'ourselves',\n",
       " 'out',\n",
       " 'over',\n",
       " 'own',\n",
       " 're',\n",
       " 'retweet',\n",
       " 'rt',\n",
       " 'rts',\n",
       " 's',\n",
       " 'same',\n",
       " 'shan',\n",
       " \"shan't\",\n",
       " 'she',\n",
       " \"she's\",\n",
       " 'should',\n",
       " \"should've\",\n",
       " 'shouldn',\n",
       " \"shouldn't\",\n",
       " 'so',\n",
       " 'some',\n",
       " 'such',\n",
       " 't',\n",
       " 'than',\n",
       " 'that',\n",
       " \"that'll\",\n",
       " 'the',\n",
       " 'their',\n",
       " 'theirs',\n",
       " 'them',\n",
       " 'themselves',\n",
       " 'then',\n",
       " 'there',\n",
       " 'these',\n",
       " 'they',\n",
       " 'this',\n",
       " 'those',\n",
       " 'through',\n",
       " 'to',\n",
       " 'too',\n",
       " 'under',\n",
       " 'until',\n",
       " 'up',\n",
       " 've',\n",
       " 'very',\n",
       " 'was',\n",
       " 'wasn',\n",
       " \"wasn't\",\n",
       " 'we',\n",
       " 'were',\n",
       " 'weren',\n",
       " \"weren't\",\n",
       " 'what',\n",
       " 'when',\n",
       " 'where',\n",
       " 'which',\n",
       " 'while',\n",
       " 'who',\n",
       " 'whom',\n",
       " 'why',\n",
       " 'will',\n",
       " 'with',\n",
       " 'won',\n",
       " \"won't\",\n",
       " 'wouldn',\n",
       " \"wouldn't\",\n",
       " 'y',\n",
       " 'you',\n",
       " \"you'd\",\n",
       " \"you'll\",\n",
       " \"you're\",\n",
       " \"you've\",\n",
       " 'your',\n",
       " 'yours',\n",
       " 'yourself',\n",
       " 'yourselves'}"
      ]
     },
     "execution_count": 31,
     "metadata": {},
     "output_type": "execute_result"
    }
   ],
   "source": [
    "swords"
   ]
  },
  {
   "cell_type": "code",
   "execution_count": 32,
   "metadata": {
    "scrolled": true
   },
   "outputs": [
    {
     "data": {
      "text/plain": [
       "id\n",
       "1219720675797041152    [dear, rest, india, bengali, speaking, people,...\n",
       "1219720397387513856                    [xenophobia, replies, makes, sad]\n",
       "1219720349467709442    [meanwhile, left, weaponised, racist, bigot, t...\n",
       "1219720100997222402    [yes, finding, common, ground, neo, nazis, lik...\n",
       "1219719957065261056    [know, sometimes, see, shocking, amounts, raci...\n",
       "1219719711577006081    [send, 350m, eu, every, week, let, waste, 200b...\n",
       "1219719600507482112    [trillion, dollar, deficit, spending, soldiers...\n",
       "1219719528776720390                     [aim, reduce, yes, point, xenop]\n",
       "1219719422941761537    [want, fight, back, rising, xenophobia, amp, d...\n",
       "1219718705141166081                                   [expected, put, w]\n",
       "Name: processed_text, dtype: object"
      ]
     },
     "execution_count": 32,
     "metadata": {},
     "output_type": "execute_result"
    }
   ],
   "source": [
    "df['processed_text'].head(n=10)"
   ]
  },
  {
   "cell_type": "markdown",
   "metadata": {},
   "source": [
    "Another transformation could be stemming the words. Think about 'play', 'played', 'plays', 'playing'. Since all of them represent the same idea, it would be nice to reduce them to the same concept and count together."
   ]
  },
  {
   "cell_type": "code",
   "execution_count": 33,
   "metadata": {},
   "outputs": [],
   "source": [
    "from nltk.stem import PorterStemmer\n",
    "ps = PorterStemmer()"
   ]
  },
  {
   "cell_type": "code",
   "execution_count": 34,
   "metadata": {},
   "outputs": [],
   "source": [
    "df['stemmed'] = df['processed_text'].apply(lambda x: [ps.stem(i) for i in x if i != ''])"
   ]
  },
  {
   "cell_type": "code",
   "execution_count": 35,
   "metadata": {},
   "outputs": [
    {
     "data": {
      "text/plain": [
       "id\n",
       "1219720675797041152    [dear, rest, india, bengali, speak, peopl, ban...\n",
       "1219720397387513856                       [xenophobia, repli, make, sad]\n",
       "1219720349467709442    [meanwhil, left, weaponis, racist, bigot, tran...\n",
       "1219720100997222402    [ye, find, common, ground, neo, nazi, like, tu...\n",
       "1219719957065261056    [know, sometim, see, shock, amount, racism, ho...\n",
       "1219719711577006081    [send, 350m, eu, everi, week, let, wast, 200bn...\n",
       "1219719600507482112    [trillion, dollar, deficit, spend, soldier, wo...\n",
       "1219719528776720390                       [aim, reduc, ye, point, xenop]\n",
       "1219719422941761537    [want, fight, back, rise, xenophobia, amp, dis...\n",
       "1219718705141166081                                     [expect, put, w]\n",
       "Name: stemmed, dtype: object"
      ]
     },
     "execution_count": 35,
     "metadata": {},
     "output_type": "execute_result"
    }
   ],
   "source": [
    "df['stemmed'].head(n=10)"
   ]
  },
  {
   "cell_type": "markdown",
   "metadata": {},
   "source": [
    "### Score each tweet sentiment"
   ]
  },
  {
   "cell_type": "markdown",
   "metadata": {},
   "source": [
    "The Vader Sentiment Analyzer will assign a polarity score to each provided tweet."
   ]
  },
  {
   "cell_type": "code",
   "execution_count": 36,
   "metadata": {},
   "outputs": [
    {
     "name": "stderr",
     "output_type": "stream",
     "text": [
      "[nltk_data] Downloading package vader_lexicon to\n",
      "[nltk_data]     C:\\Users\\blmalumi\\AppData\\Roaming\\nltk_data...\n",
      "[nltk_data]   Package vader_lexicon is already up-to-date!\n"
     ]
    },
    {
     "data": {
      "text/plain": [
       "True"
      ]
     },
     "execution_count": 36,
     "metadata": {},
     "output_type": "execute_result"
    }
   ],
   "source": [
    "import nltk.sentiment.vader as vd\n",
    "from nltk import download\n",
    "download('vader_lexicon')"
   ]
  },
  {
   "cell_type": "code",
   "execution_count": 37,
   "metadata": {},
   "outputs": [],
   "source": [
    "sia = vd.SentimentIntensityAnalyzer()"
   ]
  },
  {
   "cell_type": "code",
   "execution_count": 38,
   "metadata": {},
   "outputs": [],
   "source": [
    "from nltk.tokenize import word_tokenize"
   ]
  },
  {
   "cell_type": "code",
   "execution_count": 39,
   "metadata": {},
   "outputs": [],
   "source": [
    "df['sentiment_score'] = df['processed_text'].apply(lambda x: sum([ sia.polarity_scores(i)['compound'] for i in word_tokenize( ' '.join(x) )]) )"
   ]
  },
  {
   "cell_type": "code",
   "execution_count": 40,
   "metadata": {},
   "outputs": [
    {
     "data": {
      "text/html": [
       "<div>\n",
       "<style scoped>\n",
       "    .dataframe tbody tr th:only-of-type {\n",
       "        vertical-align: middle;\n",
       "    }\n",
       "\n",
       "    .dataframe tbody tr th {\n",
       "        vertical-align: top;\n",
       "    }\n",
       "\n",
       "    .dataframe thead th {\n",
       "        text-align: right;\n",
       "    }\n",
       "</style>\n",
       "<table border=\"1\" class=\"dataframe\">\n",
       "  <thead>\n",
       "    <tr style=\"text-align: right;\">\n",
       "      <th></th>\n",
       "      <th>processed_text</th>\n",
       "      <th>sentiment_score</th>\n",
       "    </tr>\n",
       "    <tr>\n",
       "      <th>id</th>\n",
       "      <th></th>\n",
       "      <th></th>\n",
       "    </tr>\n",
       "  </thead>\n",
       "  <tbody>\n",
       "    <tr>\n",
       "      <td>1219720675797041152</td>\n",
       "      <td>[dear, rest, india, bengali, speaking, people,...</td>\n",
       "      <td>0.3818</td>\n",
       "    </tr>\n",
       "    <tr>\n",
       "      <td>1219720397387513856</td>\n",
       "      <td>[xenophobia, replies, makes, sad]</td>\n",
       "      <td>-0.4767</td>\n",
       "    </tr>\n",
       "    <tr>\n",
       "      <td>1219720349467709442</td>\n",
       "      <td>[meanwhile, left, weaponised, racist, bigot, t...</td>\n",
       "      <td>-0.6124</td>\n",
       "    </tr>\n",
       "    <tr>\n",
       "      <td>1219720100997222402</td>\n",
       "      <td>[yes, finding, common, ground, neo, nazis, lik...</td>\n",
       "      <td>0.7631</td>\n",
       "    </tr>\n",
       "    <tr>\n",
       "      <td>1219719957065261056</td>\n",
       "      <td>[know, sometimes, see, shocking, amounts, raci...</td>\n",
       "      <td>-1.0268</td>\n",
       "    </tr>\n",
       "    <tr>\n",
       "      <td>1219719711577006081</td>\n",
       "      <td>[send, 350m, eu, every, week, let, waste, 200b...</td>\n",
       "      <td>-1.0464</td>\n",
       "    </tr>\n",
       "    <tr>\n",
       "      <td>1219719600507482112</td>\n",
       "      <td>[trillion, dollar, deficit, spending, soldiers...</td>\n",
       "      <td>-0.4019</td>\n",
       "    </tr>\n",
       "    <tr>\n",
       "      <td>1219719528776720390</td>\n",
       "      <td>[aim, reduce, yes, point, xenop]</td>\n",
       "      <td>0.4019</td>\n",
       "    </tr>\n",
       "    <tr>\n",
       "      <td>1219719422941761537</td>\n",
       "      <td>[want, fight, back, rising, xenophobia, amp, d...</td>\n",
       "      <td>0.1358</td>\n",
       "    </tr>\n",
       "    <tr>\n",
       "      <td>1219718705141166081</td>\n",
       "      <td>[expected, put, w]</td>\n",
       "      <td>0.0000</td>\n",
       "    </tr>\n",
       "  </tbody>\n",
       "</table>\n",
       "</div>"
      ],
      "text/plain": [
       "                                                        processed_text  \\\n",
       "id                                                                       \n",
       "1219720675797041152  [dear, rest, india, bengali, speaking, people,...   \n",
       "1219720397387513856                  [xenophobia, replies, makes, sad]   \n",
       "1219720349467709442  [meanwhile, left, weaponised, racist, bigot, t...   \n",
       "1219720100997222402  [yes, finding, common, ground, neo, nazis, lik...   \n",
       "1219719957065261056  [know, sometimes, see, shocking, amounts, raci...   \n",
       "1219719711577006081  [send, 350m, eu, every, week, let, waste, 200b...   \n",
       "1219719600507482112  [trillion, dollar, deficit, spending, soldiers...   \n",
       "1219719528776720390                   [aim, reduce, yes, point, xenop]   \n",
       "1219719422941761537  [want, fight, back, rising, xenophobia, amp, d...   \n",
       "1219718705141166081                                 [expected, put, w]   \n",
       "\n",
       "                     sentiment_score  \n",
       "id                                    \n",
       "1219720675797041152           0.3818  \n",
       "1219720397387513856          -0.4767  \n",
       "1219720349467709442          -0.6124  \n",
       "1219720100997222402           0.7631  \n",
       "1219719957065261056          -1.0268  \n",
       "1219719711577006081          -1.0464  \n",
       "1219719600507482112          -0.4019  \n",
       "1219719528776720390           0.4019  \n",
       "1219719422941761537           0.1358  \n",
       "1219718705141166081           0.0000  "
      ]
     },
     "execution_count": 40,
     "metadata": {},
     "output_type": "execute_result"
    }
   ],
   "source": [
    "df[['processed_text','sentiment_score']].head(n=10)"
   ]
  },
  {
   "cell_type": "markdown",
   "metadata": {},
   "source": [
    "Of course we should inspect the data in detail to see if we're happy with the way the Polarity Scoring has assigned sentiments to our tweets."
   ]
  },
  {
   "cell_type": "markdown",
   "metadata": {},
   "source": [
    "Now, we will try to visualize the split between attributed sentiments. As we can see, the term is quite contradictory with an almost even split beetween positive, negative and neutral sentiments."
   ]
  },
  {
   "cell_type": "code",
   "execution_count": 41,
   "metadata": {},
   "outputs": [
    {
     "data": {
      "text/plain": [
       " 0    2814\n",
       "-1     999\n",
       " 1     444\n",
       "-2      87\n",
       " 2      23\n",
       "-3       3\n",
       "-5       1\n",
       "Name: sentiment_score, dtype: int64"
      ]
     },
     "execution_count": 41,
     "metadata": {},
     "output_type": "execute_result"
    }
   ],
   "source": [
    "df['sentiment_score'].apply(lambda x: round(x,)).value_counts()"
   ]
  },
  {
   "cell_type": "code",
   "execution_count": 42,
   "metadata": {
    "scrolled": true
   },
   "outputs": [],
   "source": [
    "df['user_audience_category'] = pd.cut(df['user.followers_count'],[0,300,10000,999999999],include_lowest=True,labels=['small','medium','wide'])"
   ]
  },
  {
   "cell_type": "code",
   "execution_count": 43,
   "metadata": {},
   "outputs": [
    {
     "data": {
      "text/plain": [
       "id\n",
       "1219720675797041152     small\n",
       "1219720397387513856    medium\n",
       "1219720349467709442     small\n",
       "1219720100997222402    medium\n",
       "1219719957065261056    medium\n",
       "Name: user_audience_category, dtype: category\n",
       "Categories (3, object): [small < medium < wide]"
      ]
     },
     "execution_count": 43,
     "metadata": {},
     "output_type": "execute_result"
    }
   ],
   "source": [
    "df['user_audience_category'].head()"
   ]
  },
  {
   "cell_type": "markdown",
   "metadata": {},
   "source": [
    "# DATA VISUALIZATION"
   ]
  },
  {
   "cell_type": "markdown",
   "metadata": {},
   "source": [
    "To visualiza the data the following libraries will be used."
   ]
  },
  {
   "cell_type": "code",
   "execution_count": 119,
   "metadata": {},
   "outputs": [],
   "source": [
    "#Visualisation\n",
    "# import numpy as np\n",
    "# import matplotlib.pyplot as plt\n",
    "# import matplotlib\n",
    "# import seaborn as sns\n",
    "# from IPython.display import display\n",
    "# import os\n",
    "# os.environ[\"PROJ_LIB\"] = r'C:\\Users\\blmalumi\\AppData\\Local\\Continuum\\anaconda3\\pkgs\\proj4-5.2.0-ha925a31_1\\Library\\share'\n",
    "from mpl_toolkits.basemap import Basemap\n"
   ]
  },
  {
   "cell_type": "markdown",
   "metadata": {},
   "source": [
    "### Geolocate tweets using location"
   ]
  },
  {
   "cell_type": "markdown",
   "metadata": {},
   "source": [
    "Using the users' declared location, we're going to map the most frequent declared locations."
   ]
  },
  {
   "cell_type": "code",
   "execution_count": 44,
   "metadata": {
    "scrolled": true
   },
   "outputs": [],
   "source": [
    "locs = df['user.location'].value_counts()\n",
    "locs.drop('',inplace=True)\n",
    "locs = locs[locs>=10]"
   ]
  },
  {
   "cell_type": "code",
   "execution_count": 45,
   "metadata": {},
   "outputs": [],
   "source": [
    "mapping = {'London' : 'London, UK',\n",
    " 'London, England': 'London, UK'  ,\n",
    " 'United Kingdom' : 'United Kingdom',\n",
    " 'England, United Kingdom': 'England' ,\n",
    " 'UK': 'United Kingdom',\n",
    " 'England': 'England',\n",
    " 'Europe' : None ,\n",
    " 'South East, England': 'South East England',\n",
    " 'Scotland, United Kingdom' : 'Scotland',\n",
    " 'Scotland': 'Scotland',\n",
    " 'Ireland' : 'Ireland',\n",
    " 'North West, England' : 'North West England',\n",
    " 'London, UK': 'London, UK',\n",
    " 'Manchester, England': 'Manchester, UK',\n",
    " 'European Union': None,\n",
    " 'North East, England': 'North East England',\n",
    " 'Glasgow, Scotland': 'Glasgow, UK',\n",
    " 'London ': 'London, UK',\n",
    " 'European Union 🇪🇺' : None,\n",
    " 'Wales, United Kingdom': 'Wales',\n",
    " 'Rutland': 'Rutland, UK',\n",
    " 'West Midlands, England' : 'West Midlands, UK',\n",
    " 'East Midlands, England' : 'East Midlands, UK',\n",
    " 'France': 'France',\n",
    " 'Yorkshire and The Humber' : 'Yorkshire and The Humber, UK',\n",
    " 'Sheffield, England' : 'Sheffield, UK',\n",
    " 'South West, England' : 'South West England',\n",
    " 'United States' : 'United States',\n",
    " 'Oxford, England': 'Oxford, UK',\n",
    " 'Reading, England': 'Reading, UK',\n",
    " 'London UK': 'London, UK',\n",
    " 'Kent' : 'Kent, UK',\n",
    " 'Somerset' : 'Somerset, UK',\n",
    " 'North London' : 'London, UK',\n",
    " 'Wales': 'Wales',\n",
    " 'Washington, DC' : 'Washington, DC',\n",
    " 'Bristol, England' : 'Bristol, UK',\n",
    " 'Edinburgh, Scotland' : 'Edinburgh, UK',\n",
    " 'Glasgow' : 'Glasgow, UK',\n",
    " 'Nottingham, England' : 'Nottingham, UK',\n",
    " 'Liverpool, England' : 'Liverpool, UK',\n",
    " 'Edinburgh' : 'Edinburgh, UK',\n",
    " 'Belfast, Northern Ireland' : 'Belfast, UK',\n",
    " 'Spain' : 'Spain',\n",
    " 'Leeds, England' : 'Leeds, UK',\n",
    " 'Milton Keynes, England' : 'Milton Keynes, UK',\n",
    " 'Bracknell' : 'Bracknell, UK',\n",
    " 'Leeds' : 'Leeds, UK',\n",
    " 'City of London, London' : 'London, UK',\n",
    " 'Cornwall' : 'Cornwall, UK' }"
   ]
  },
  {
   "cell_type": "code",
   "execution_count": 46,
   "metadata": {},
   "outputs": [
    {
     "data": {
      "text/plain": [
       "id\n",
       "1219720675797041152     المكان المقصود الجنة الفردوس\n",
       "1219720397387513856      Crying over taeyong~she/her\n",
       "1219720349467709442       North Yorkshire, obviously\n",
       "1219720100997222402                       Eastern MA\n",
       "1219719957065261056    East of China West of Iceland\n",
       "                                   ...              \n",
       "1219679997339684864                      east london\n",
       "1219679824236699649                                 \n",
       "1219679790082461696                     South Africa\n",
       "1219679711187652608                     South Africa\n",
       "1219679630854164483                     South Africa\n",
       "Name: user.location, Length: 4371, dtype: object"
      ]
     },
     "execution_count": 46,
     "metadata": {},
     "output_type": "execute_result"
    }
   ],
   "source": [
    "df['user.location'] =  df['user.location'].apply(lambda x: mapping[x] if x in mapping.keys() else x )\n",
    "df['user.location']"
   ]
  },
  {
   "cell_type": "markdown",
   "metadata": {},
   "source": [
    "The Nominatim package allows us to get the coordinates of a city. The results show that the tweeters are overwhelmingly US-based."
   ]
  },
  {
   "cell_type": "code",
   "execution_count": 47,
   "metadata": {},
   "outputs": [
    {
     "name": "stdout",
     "output_type": "stream",
     "text": [
      "Requirement already satisfied: geopy in c:\\users\\blmalumi\\appdata\\local\\continuum\\anaconda3\\lib\\site-packages (1.20.0)\n",
      "Requirement already satisfied: geographiclib<2,>=1.49 in c:\\users\\blmalumi\\appdata\\local\\continuum\\anaconda3\\lib\\site-packages (from geopy) (1.50)\n",
      "Note: you may need to restart the kernel to use updated packages.\n"
     ]
    }
   ],
   "source": [
    "pip install geopy"
   ]
  },
  {
   "cell_type": "code",
   "execution_count": 48,
   "metadata": {},
   "outputs": [],
   "source": [
    "locs = list(locs.index)"
   ]
  },
  {
   "cell_type": "code",
   "execution_count": 49,
   "metadata": {},
   "outputs": [],
   "source": [
    "from geopy.geocoders import Nominatim\n",
    "geolocator = Nominatim(user_agent='twitter-analysis-cl')"
   ]
  },
  {
   "cell_type": "code",
   "execution_count": 50,
   "metadata": {
    "scrolled": true
   },
   "outputs": [
    {
     "name": "stdout",
     "output_type": "stream",
     "text": [
      "                             0                                  1\n",
      "0                 South Africa           (-28.8166236, 24.991639)\n",
      "1              London, England           (51.5073219, -0.1276474)\n",
      "2                United States         (39.7837304, -100.4458825)\n",
      "3                       London           (51.5073219, -0.1276474)\n",
      "4   Johannesburg, South Africa               (-26.205, 28.049722)\n",
      "5               United Kingdom           (54.7023545, -3.2765753)\n",
      "6                       Canada         (61.0666922, -107.9917071)\n",
      "7              California, USA         (36.7014631, -118.7559974)\n",
      "8      Cape Town, South Africa            (-33.928992, 18.417396)\n",
      "9                       Africa           (11.5024338, 17.7578122)\n",
      "10     England, United Kingdom  (52.7954791, -0.5402402866174321)\n",
      "11                         USA         (39.7837304, -100.4458825)\n",
      "12                    Scotland           (56.7861112, -4.1140518)\n",
      "13                 Seattle, WA         (47.6038321, -122.3300624)\n",
      "14              Washington, DC          (38.8948932, -77.0365529)\n",
      "15      Pretoria, South Africa          (-25.7459374, 28.1879444)\n",
      "16             Los Angeles, CA         (34.0536909, -118.2427666)\n",
      "17                 Chicago, IL          (41.8755616, -87.6244212)\n",
      "18                          UK           (54.7023545, -3.2765753)\n",
      "19                New York, NY          (40.7127281, -74.0060152)\n",
      "20                Brooklyn, NY          (40.6501038, -73.9495823)\n",
      "21                     Jamaica          (18.1850507, -77.3947693)\n",
      "22                Florida, USA          (27.7567667, -81.4639835)\n",
      "23           San Francisco, CA           (45.4149778, -72.749396)\n",
      "24                      Brasil               (-10.3333333, -53.2)\n",
      "25                     England  (52.7954791, -0.5402402866174321)\n",
      "26    Scotland, United Kingdom           (56.7861112, -4.1140518)\n",
      "27                     she/her          (35.1172406, -89.9132695)\n"
     ]
    }
   ],
   "source": [
    "geolocated = list(map(lambda x: [x,geolocator.geocode(x)[1] if geolocator.geocode(x) else None],locs))\n",
    "geolocated = pd.DataFrame(geolocated)\n",
    "print(geolocated)\n",
    "#geolocated.dropna(subset = ['latlong'], inplace = True)\n"
   ]
  },
  {
   "cell_type": "code",
   "execution_count": 51,
   "metadata": {},
   "outputs": [],
   "source": [
    "geolocated.columns = ['locat','latlong']\n"
   ]
  },
  {
   "cell_type": "code",
   "execution_count": 52,
   "metadata": {
    "scrolled": true
   },
   "outputs": [],
   "source": [
    "geolocated['lat'] = geolocated.latlong.apply(lambda x: x[0])\n",
    "geolocated['lon'] = geolocated.latlong.apply(lambda x: x[1])\n",
    "geolocated.drop('latlong',axis=1, inplace=True)"
   ]
  },
  {
   "cell_type": "code",
   "execution_count": 53,
   "metadata": {
    "scrolled": false
   },
   "outputs": [],
   "source": [
    "mapdata = pd.merge(df,geolocated, how='inner', left_on='user.location', right_on='locat')"
   ]
  },
  {
   "cell_type": "code",
   "execution_count": 54,
   "metadata": {},
   "outputs": [
    {
     "data": {
      "text/html": [
       "<div>\n",
       "<style scoped>\n",
       "    .dataframe tbody tr th:only-of-type {\n",
       "        vertical-align: middle;\n",
       "    }\n",
       "\n",
       "    .dataframe tbody tr th {\n",
       "        vertical-align: top;\n",
       "    }\n",
       "\n",
       "    .dataframe thead th {\n",
       "        text-align: right;\n",
       "    }\n",
       "</style>\n",
       "<table border=\"1\" class=\"dataframe\">\n",
       "  <thead>\n",
       "    <tr style=\"text-align: right;\">\n",
       "      <th></th>\n",
       "      <th>created_at</th>\n",
       "      <th>text</th>\n",
       "      <th>truncated</th>\n",
       "      <th>source</th>\n",
       "      <th>in_reply_to_status_id</th>\n",
       "      <th>in_reply_to_status_id_str</th>\n",
       "      <th>in_reply_to_user_id</th>\n",
       "      <th>in_reply_to_user_id_str</th>\n",
       "      <th>in_reply_to_screen_name</th>\n",
       "      <th>geo</th>\n",
       "      <th>...</th>\n",
       "      <th>geo.coordinates</th>\n",
       "      <th>coordinates.type</th>\n",
       "      <th>coordinates.coordinates</th>\n",
       "      <th>processed_text</th>\n",
       "      <th>stemmed</th>\n",
       "      <th>sentiment_score</th>\n",
       "      <th>user_audience_category</th>\n",
       "      <th>locat</th>\n",
       "      <th>lat</th>\n",
       "      <th>lon</th>\n",
       "    </tr>\n",
       "  </thead>\n",
       "  <tbody>\n",
       "    <tr>\n",
       "      <td>0</td>\n",
       "      <td>Tue Jan 21 20:29:35 +0000 2020</td>\n",
       "      <td>@distant_angel @TimAggettsport @RainbowWookey ...</td>\n",
       "      <td>True</td>\n",
       "      <td>&lt;a href=\"http://twitter.com/download/iphone\" r...</td>\n",
       "      <td>1.219717e+18</td>\n",
       "      <td>1219717305405530112</td>\n",
       "      <td>6.281958e+07</td>\n",
       "      <td>62819585</td>\n",
       "      <td>distant_angel</td>\n",
       "      <td>NaN</td>\n",
       "      <td>...</td>\n",
       "      <td>NaN</td>\n",
       "      <td>NaN</td>\n",
       "      <td>NaN</td>\n",
       "      <td>[expected, put, w]</td>\n",
       "      <td>[expect, put, w]</td>\n",
       "      <td>0.0000</td>\n",
       "      <td>medium</td>\n",
       "      <td>United Kingdom</td>\n",
       "      <td>54.702354</td>\n",
       "      <td>-3.276575</td>\n",
       "    </tr>\n",
       "    <tr>\n",
       "      <td>1</td>\n",
       "      <td>Tue Jan 21 20:01:03 +0000 2020</td>\n",
       "      <td>RT @Emmalouisajones: On from my Remainer/remoa...</td>\n",
       "      <td>False</td>\n",
       "      <td>&lt;a href=\"https://mobile.twitter.com\" rel=\"nofo...</td>\n",
       "      <td>NaN</td>\n",
       "      <td>None</td>\n",
       "      <td>NaN</td>\n",
       "      <td>None</td>\n",
       "      <td>None</td>\n",
       "      <td>NaN</td>\n",
       "      <td>...</td>\n",
       "      <td>NaN</td>\n",
       "      <td>NaN</td>\n",
       "      <td>NaN</td>\n",
       "      <td>[remainer, remoaner, definitions, ones, 2020, ...</td>\n",
       "      <td>[remain, remoan, definit, one, 2020, woke, off...</td>\n",
       "      <td>-0.8749</td>\n",
       "      <td>medium</td>\n",
       "      <td>United Kingdom</td>\n",
       "      <td>54.702354</td>\n",
       "      <td>-3.276575</td>\n",
       "    </tr>\n",
       "    <tr>\n",
       "      <td>2</td>\n",
       "      <td>Tue Jan 21 16:10:18 +0000 2020</td>\n",
       "      <td>RT @daphne_miles: @CarolineLucas @Scrabble817 ...</td>\n",
       "      <td>False</td>\n",
       "      <td>&lt;a href=\"https://mobile.twitter.com\" rel=\"nofo...</td>\n",
       "      <td>NaN</td>\n",
       "      <td>None</td>\n",
       "      <td>NaN</td>\n",
       "      <td>None</td>\n",
       "      <td>None</td>\n",
       "      <td>NaN</td>\n",
       "      <td>...</td>\n",
       "      <td>NaN</td>\n",
       "      <td>NaN</td>\n",
       "      <td>NaN</td>\n",
       "      <td>[totally, agree, caroline, kind, vile, country...</td>\n",
       "      <td>[total, agre, carolin, kind, vile, countri, be...</td>\n",
       "      <td>0.2630</td>\n",
       "      <td>medium</td>\n",
       "      <td>United Kingdom</td>\n",
       "      <td>54.702354</td>\n",
       "      <td>-3.276575</td>\n",
       "    </tr>\n",
       "    <tr>\n",
       "      <td>3</td>\n",
       "      <td>Tue Jan 21 16:03:24 +0000 2020</td>\n",
       "      <td>Managing xenophobia in the workplace https://t...</td>\n",
       "      <td>False</td>\n",
       "      <td>&lt;a href=\"http://bmmagazine.co.uk/\" rel=\"nofoll...</td>\n",
       "      <td>NaN</td>\n",
       "      <td>None</td>\n",
       "      <td>NaN</td>\n",
       "      <td>None</td>\n",
       "      <td>None</td>\n",
       "      <td>NaN</td>\n",
       "      <td>...</td>\n",
       "      <td>NaN</td>\n",
       "      <td>NaN</td>\n",
       "      <td>NaN</td>\n",
       "      <td>[managing, xenophobia, workplace]</td>\n",
       "      <td>[manag, xenophobia, workplac]</td>\n",
       "      <td>0.0000</td>\n",
       "      <td>wide</td>\n",
       "      <td>United Kingdom</td>\n",
       "      <td>54.702354</td>\n",
       "      <td>-3.276575</td>\n",
       "    </tr>\n",
       "    <tr>\n",
       "      <td>4</td>\n",
       "      <td>Tue Jan 21 12:31:30 +0000 2020</td>\n",
       "      <td>@ReaperSteven @CandaerReynolds @june_mummery I...</td>\n",
       "      <td>False</td>\n",
       "      <td>&lt;a href=\"https://mobile.twitter.com\" rel=\"nofo...</td>\n",
       "      <td>1.219597e+18</td>\n",
       "      <td>1219596961919242242</td>\n",
       "      <td>2.403078e+08</td>\n",
       "      <td>240307801</td>\n",
       "      <td>ReaperSteven</td>\n",
       "      <td>NaN</td>\n",
       "      <td>...</td>\n",
       "      <td>NaN</td>\n",
       "      <td>NaN</td>\n",
       "      <td>NaN</td>\n",
       "      <td>[think, talking, xenophobia, certainly, racism]</td>\n",
       "      <td>[think, talk, xenophobia, certainli, racism]</td>\n",
       "      <td>-0.2849</td>\n",
       "      <td>wide</td>\n",
       "      <td>United Kingdom</td>\n",
       "      <td>54.702354</td>\n",
       "      <td>-3.276575</td>\n",
       "    </tr>\n",
       "    <tr>\n",
       "      <td>...</td>\n",
       "      <td>...</td>\n",
       "      <td>...</td>\n",
       "      <td>...</td>\n",
       "      <td>...</td>\n",
       "      <td>...</td>\n",
       "      <td>...</td>\n",
       "      <td>...</td>\n",
       "      <td>...</td>\n",
       "      <td>...</td>\n",
       "      <td>...</td>\n",
       "      <td>...</td>\n",
       "      <td>...</td>\n",
       "      <td>...</td>\n",
       "      <td>...</td>\n",
       "      <td>...</td>\n",
       "      <td>...</td>\n",
       "      <td>...</td>\n",
       "      <td>...</td>\n",
       "      <td>...</td>\n",
       "      <td>...</td>\n",
       "      <td>...</td>\n",
       "    </tr>\n",
       "    <tr>\n",
       "      <td>499</td>\n",
       "      <td>Sun Jan 19 16:50:37 +0000 2020</td>\n",
       "      <td>@pjmnprint @tendaemini @rkivelost The only thi...</td>\n",
       "      <td>True</td>\n",
       "      <td>&lt;a href=\"http://twitter.com/download/android\" ...</td>\n",
       "      <td>1.218814e+18</td>\n",
       "      <td>1218813530939457536</td>\n",
       "      <td>1.130081e+18</td>\n",
       "      <td>1130080503963500545</td>\n",
       "      <td>pjmnprint</td>\n",
       "      <td>NaN</td>\n",
       "      <td>...</td>\n",
       "      <td>NaN</td>\n",
       "      <td>NaN</td>\n",
       "      <td>NaN</td>\n",
       "      <td>[thing, proves, kpop, major, industry, korea]</td>\n",
       "      <td>[thing, prove, kpop, major, industri, korea]</td>\n",
       "      <td>0.0000</td>\n",
       "      <td>medium</td>\n",
       "      <td>Brasil</td>\n",
       "      <td>-10.333333</td>\n",
       "      <td>-53.200000</td>\n",
       "    </tr>\n",
       "    <tr>\n",
       "      <td>500</td>\n",
       "      <td>Sun Jan 19 16:48:00 +0000 2020</td>\n",
       "      <td>@SarahAye24 @smol309 Beloved I'm army and my p...</td>\n",
       "      <td>True</td>\n",
       "      <td>&lt;a href=\"http://twitter.com/download/android\" ...</td>\n",
       "      <td>1.218820e+18</td>\n",
       "      <td>1218819782675333121</td>\n",
       "      <td>8.321518e+17</td>\n",
       "      <td>832151788945944576</td>\n",
       "      <td>SarahAye24</td>\n",
       "      <td>NaN</td>\n",
       "      <td>...</td>\n",
       "      <td>NaN</td>\n",
       "      <td>NaN</td>\n",
       "      <td>NaN</td>\n",
       "      <td>[beloved, army, point, dismissing, entire, ind...</td>\n",
       "      <td>[belov, armi, point, dismiss, entir, industri,...</td>\n",
       "      <td>0.5106</td>\n",
       "      <td>medium</td>\n",
       "      <td>Brasil</td>\n",
       "      <td>-10.333333</td>\n",
       "      <td>-53.200000</td>\n",
       "    </tr>\n",
       "    <tr>\n",
       "      <td>501</td>\n",
       "      <td>Sun Jan 19 06:16:52 +0000 2020</td>\n",
       "      <td>@sadaboutbts This is just historical fact. Y'a...</td>\n",
       "      <td>True</td>\n",
       "      <td>&lt;a href=\"http://twitter.com/download/android\" ...</td>\n",
       "      <td>1.218778e+18</td>\n",
       "      <td>1218777733217558528</td>\n",
       "      <td>7.983437e+17</td>\n",
       "      <td>798343693895954436</td>\n",
       "      <td>sadaboutbts</td>\n",
       "      <td>NaN</td>\n",
       "      <td>...</td>\n",
       "      <td>NaN</td>\n",
       "      <td>NaN</td>\n",
       "      <td>NaN</td>\n",
       "      <td>[historical, fact, reproducing, western, gp, x...</td>\n",
       "      <td>[histor, fact, reproduc, western, gp, xenophob...</td>\n",
       "      <td>0.0000</td>\n",
       "      <td>medium</td>\n",
       "      <td>Brasil</td>\n",
       "      <td>-10.333333</td>\n",
       "      <td>-53.200000</td>\n",
       "    </tr>\n",
       "    <tr>\n",
       "      <td>502</td>\n",
       "      <td>Sat Jan 18 23:17:05 +0000 2020</td>\n",
       "      <td>@kimvyoon Lmao if you think respecting BTS's c...</td>\n",
       "      <td>True</td>\n",
       "      <td>&lt;a href=\"http://twitter.com/download/android\" ...</td>\n",
       "      <td>1.218653e+18</td>\n",
       "      <td>1218652621675868163</td>\n",
       "      <td>3.291850e+09</td>\n",
       "      <td>3291849982</td>\n",
       "      <td>kimvyoon</td>\n",
       "      <td>NaN</td>\n",
       "      <td>...</td>\n",
       "      <td>NaN</td>\n",
       "      <td>NaN</td>\n",
       "      <td>NaN</td>\n",
       "      <td>[lmao, think, respecting, bts, country, indust...</td>\n",
       "      <td>[lmao, think, respect, bt, countri, industri, ...</td>\n",
       "      <td>1.0933</td>\n",
       "      <td>medium</td>\n",
       "      <td>Brasil</td>\n",
       "      <td>-10.333333</td>\n",
       "      <td>-53.200000</td>\n",
       "    </tr>\n",
       "    <tr>\n",
       "      <td>503</td>\n",
       "      <td>Sat Jan 18 18:46:17 +0000 2020</td>\n",
       "      <td>@aegyoeobta How can we fight against Western m...</td>\n",
       "      <td>True</td>\n",
       "      <td>&lt;a href=\"http://twitter.com/download/android\" ...</td>\n",
       "      <td>1.218603e+18</td>\n",
       "      <td>1218602724842971136</td>\n",
       "      <td>9.460287e+17</td>\n",
       "      <td>946028700432306176</td>\n",
       "      <td>aegyoeobta</td>\n",
       "      <td>NaN</td>\n",
       "      <td>...</td>\n",
       "      <td>NaN</td>\n",
       "      <td>NaN</td>\n",
       "      <td>NaN</td>\n",
       "      <td>[fight, western, media, xenophobia, reinforcin...</td>\n",
       "      <td>[fight, western, media, xenophobia, reinforc, ...</td>\n",
       "      <td>-0.9241</td>\n",
       "      <td>medium</td>\n",
       "      <td>Brasil</td>\n",
       "      <td>-10.333333</td>\n",
       "      <td>-53.200000</td>\n",
       "    </tr>\n",
       "  </tbody>\n",
       "</table>\n",
       "<p>504 rows × 329 columns</p>\n",
       "</div>"
      ],
      "text/plain": [
       "                         created_at  \\\n",
       "0    Tue Jan 21 20:29:35 +0000 2020   \n",
       "1    Tue Jan 21 20:01:03 +0000 2020   \n",
       "2    Tue Jan 21 16:10:18 +0000 2020   \n",
       "3    Tue Jan 21 16:03:24 +0000 2020   \n",
       "4    Tue Jan 21 12:31:30 +0000 2020   \n",
       "..                              ...   \n",
       "499  Sun Jan 19 16:50:37 +0000 2020   \n",
       "500  Sun Jan 19 16:48:00 +0000 2020   \n",
       "501  Sun Jan 19 06:16:52 +0000 2020   \n",
       "502  Sat Jan 18 23:17:05 +0000 2020   \n",
       "503  Sat Jan 18 18:46:17 +0000 2020   \n",
       "\n",
       "                                                  text  truncated  \\\n",
       "0    @distant_angel @TimAggettsport @RainbowWookey ...       True   \n",
       "1    RT @Emmalouisajones: On from my Remainer/remoa...      False   \n",
       "2    RT @daphne_miles: @CarolineLucas @Scrabble817 ...      False   \n",
       "3    Managing xenophobia in the workplace https://t...      False   \n",
       "4    @ReaperSteven @CandaerReynolds @june_mummery I...      False   \n",
       "..                                                 ...        ...   \n",
       "499  @pjmnprint @tendaemini @rkivelost The only thi...       True   \n",
       "500  @SarahAye24 @smol309 Beloved I'm army and my p...       True   \n",
       "501  @sadaboutbts This is just historical fact. Y'a...       True   \n",
       "502  @kimvyoon Lmao if you think respecting BTS's c...       True   \n",
       "503  @aegyoeobta How can we fight against Western m...       True   \n",
       "\n",
       "                                                source  in_reply_to_status_id  \\\n",
       "0    <a href=\"http://twitter.com/download/iphone\" r...           1.219717e+18   \n",
       "1    <a href=\"https://mobile.twitter.com\" rel=\"nofo...                    NaN   \n",
       "2    <a href=\"https://mobile.twitter.com\" rel=\"nofo...                    NaN   \n",
       "3    <a href=\"http://bmmagazine.co.uk/\" rel=\"nofoll...                    NaN   \n",
       "4    <a href=\"https://mobile.twitter.com\" rel=\"nofo...           1.219597e+18   \n",
       "..                                                 ...                    ...   \n",
       "499  <a href=\"http://twitter.com/download/android\" ...           1.218814e+18   \n",
       "500  <a href=\"http://twitter.com/download/android\" ...           1.218820e+18   \n",
       "501  <a href=\"http://twitter.com/download/android\" ...           1.218778e+18   \n",
       "502  <a href=\"http://twitter.com/download/android\" ...           1.218653e+18   \n",
       "503  <a href=\"http://twitter.com/download/android\" ...           1.218603e+18   \n",
       "\n",
       "    in_reply_to_status_id_str  in_reply_to_user_id in_reply_to_user_id_str  \\\n",
       "0         1219717305405530112         6.281958e+07                62819585   \n",
       "1                        None                  NaN                    None   \n",
       "2                        None                  NaN                    None   \n",
       "3                        None                  NaN                    None   \n",
       "4         1219596961919242242         2.403078e+08               240307801   \n",
       "..                        ...                  ...                     ...   \n",
       "499       1218813530939457536         1.130081e+18     1130080503963500545   \n",
       "500       1218819782675333121         8.321518e+17      832151788945944576   \n",
       "501       1218777733217558528         7.983437e+17      798343693895954436   \n",
       "502       1218652621675868163         3.291850e+09              3291849982   \n",
       "503       1218602724842971136         9.460287e+17      946028700432306176   \n",
       "\n",
       "    in_reply_to_screen_name  geo  ...  geo.coordinates  coordinates.type  \\\n",
       "0             distant_angel  NaN  ...              NaN               NaN   \n",
       "1                      None  NaN  ...              NaN               NaN   \n",
       "2                      None  NaN  ...              NaN               NaN   \n",
       "3                      None  NaN  ...              NaN               NaN   \n",
       "4              ReaperSteven  NaN  ...              NaN               NaN   \n",
       "..                      ...  ...  ...              ...               ...   \n",
       "499               pjmnprint  NaN  ...              NaN               NaN   \n",
       "500              SarahAye24  NaN  ...              NaN               NaN   \n",
       "501             sadaboutbts  NaN  ...              NaN               NaN   \n",
       "502                kimvyoon  NaN  ...              NaN               NaN   \n",
       "503              aegyoeobta  NaN  ...              NaN               NaN   \n",
       "\n",
       "    coordinates.coordinates  \\\n",
       "0                       NaN   \n",
       "1                       NaN   \n",
       "2                       NaN   \n",
       "3                       NaN   \n",
       "4                       NaN   \n",
       "..                      ...   \n",
       "499                     NaN   \n",
       "500                     NaN   \n",
       "501                     NaN   \n",
       "502                     NaN   \n",
       "503                     NaN   \n",
       "\n",
       "                                        processed_text  \\\n",
       "0                                   [expected, put, w]   \n",
       "1    [remainer, remoaner, definitions, ones, 2020, ...   \n",
       "2    [totally, agree, caroline, kind, vile, country...   \n",
       "3                    [managing, xenophobia, workplace]   \n",
       "4      [think, talking, xenophobia, certainly, racism]   \n",
       "..                                                 ...   \n",
       "499      [thing, proves, kpop, major, industry, korea]   \n",
       "500  [beloved, army, point, dismissing, entire, ind...   \n",
       "501  [historical, fact, reproducing, western, gp, x...   \n",
       "502  [lmao, think, respecting, bts, country, indust...   \n",
       "503  [fight, western, media, xenophobia, reinforcin...   \n",
       "\n",
       "                                               stemmed  sentiment_score  \\\n",
       "0                                     [expect, put, w]           0.0000   \n",
       "1    [remain, remoan, definit, one, 2020, woke, off...          -0.8749   \n",
       "2    [total, agre, carolin, kind, vile, countri, be...           0.2630   \n",
       "3                        [manag, xenophobia, workplac]           0.0000   \n",
       "4         [think, talk, xenophobia, certainli, racism]          -0.2849   \n",
       "..                                                 ...              ...   \n",
       "499       [thing, prove, kpop, major, industri, korea]           0.0000   \n",
       "500  [belov, armi, point, dismiss, entir, industri,...           0.5106   \n",
       "501  [histor, fact, reproduc, western, gp, xenophob...           0.0000   \n",
       "502  [lmao, think, respect, bt, countri, industri, ...           1.0933   \n",
       "503  [fight, western, media, xenophobia, reinforc, ...          -0.9241   \n",
       "\n",
       "     user_audience_category           locat        lat        lon  \n",
       "0                    medium  United Kingdom  54.702354  -3.276575  \n",
       "1                    medium  United Kingdom  54.702354  -3.276575  \n",
       "2                    medium  United Kingdom  54.702354  -3.276575  \n",
       "3                      wide  United Kingdom  54.702354  -3.276575  \n",
       "4                      wide  United Kingdom  54.702354  -3.276575  \n",
       "..                      ...             ...        ...        ...  \n",
       "499                  medium          Brasil -10.333333 -53.200000  \n",
       "500                  medium          Brasil -10.333333 -53.200000  \n",
       "501                  medium          Brasil -10.333333 -53.200000  \n",
       "502                  medium          Brasil -10.333333 -53.200000  \n",
       "503                  medium          Brasil -10.333333 -53.200000  \n",
       "\n",
       "[504 rows x 329 columns]"
      ]
     },
     "execution_count": 54,
     "metadata": {},
     "output_type": "execute_result"
    }
   ],
   "source": [
    "mapdata"
   ]
  },
  {
   "cell_type": "code",
   "execution_count": 55,
   "metadata": {},
   "outputs": [],
   "source": [
    "locations = mapdata.groupby(by=['locat','lat','lon'])\\\n",
    "       .count()['created_at']\\\n",
    "       .sort_values(ascending=False)"
   ]
  },
  {
   "cell_type": "code",
   "execution_count": 56,
   "metadata": {},
   "outputs": [
    {
     "data": {
      "text/plain": [
       "locat                       lat         lon        \n",
       "South Africa                -28.816624   24.991639     83\n",
       "United States                39.783730  -100.445882    48\n",
       "United Kingdom               54.702354  -3.276575      41\n",
       "Johannesburg, South Africa  -26.205000   28.049722     34\n",
       "England                      52.795479  -0.540240      27\n",
       "Scotland                     56.786111  -4.114052      25\n",
       "California, USA              36.701463  -118.755997    23\n",
       "Canada                       61.066692  -107.991707    23\n",
       "Africa                       11.502434   17.757812     22\n",
       "Cape Town, South Africa     -33.928992   18.417396     22\n",
       "Name: created_at, dtype: int64"
      ]
     },
     "execution_count": 56,
     "metadata": {},
     "output_type": "execute_result"
    }
   ],
   "source": [
    "locations.head(10)"
   ]
  },
  {
   "cell_type": "markdown",
   "metadata": {},
   "source": [
    "### Set up general settings for matplotlib"
   ]
  },
  {
   "cell_type": "code",
   "execution_count": 57,
   "metadata": {},
   "outputs": [],
   "source": [
    "import matplotlib.pyplot as plt\n",
    "\n",
    "plt.style.use('fivethirtyeight')\n",
    "plt.rcParams.update({'font.size': 20})\n",
    "\n",
    "%matplotlib inline\n",
    "plt.rcParams['figure.figsize'] = (20, 10)"
   ]
  },
  {
   "cell_type": "code",
   "execution_count": 85,
   "metadata": {},
   "outputs": [
    {
     "data": {
      "text/html": [
       "<div>\n",
       "<style scoped>\n",
       "    .dataframe tbody tr th:only-of-type {\n",
       "        vertical-align: middle;\n",
       "    }\n",
       "\n",
       "    .dataframe tbody tr th {\n",
       "        vertical-align: top;\n",
       "    }\n",
       "\n",
       "    .dataframe thead th {\n",
       "        text-align: right;\n",
       "    }\n",
       "</style>\n",
       "<table border=\"1\" class=\"dataframe\">\n",
       "  <thead>\n",
       "    <tr style=\"text-align: right;\">\n",
       "      <th></th>\n",
       "      <th>created_at</th>\n",
       "      <th>text</th>\n",
       "      <th>truncated</th>\n",
       "      <th>source</th>\n",
       "      <th>in_reply_to_status_id</th>\n",
       "      <th>in_reply_to_status_id_str</th>\n",
       "      <th>in_reply_to_user_id</th>\n",
       "      <th>in_reply_to_user_id_str</th>\n",
       "      <th>in_reply_to_screen_name</th>\n",
       "      <th>geo</th>\n",
       "      <th>...</th>\n",
       "      <th>withheld_in_countries</th>\n",
       "      <th>user.withheld_in_countries</th>\n",
       "      <th>geo.type</th>\n",
       "      <th>geo.coordinates</th>\n",
       "      <th>coordinates.type</th>\n",
       "      <th>coordinates.coordinates</th>\n",
       "      <th>processed_text</th>\n",
       "      <th>stemmed</th>\n",
       "      <th>sentiment_score</th>\n",
       "      <th>user_audience_category</th>\n",
       "    </tr>\n",
       "    <tr>\n",
       "      <th>id</th>\n",
       "      <th></th>\n",
       "      <th></th>\n",
       "      <th></th>\n",
       "      <th></th>\n",
       "      <th></th>\n",
       "      <th></th>\n",
       "      <th></th>\n",
       "      <th></th>\n",
       "      <th></th>\n",
       "      <th></th>\n",
       "      <th></th>\n",
       "      <th></th>\n",
       "      <th></th>\n",
       "      <th></th>\n",
       "      <th></th>\n",
       "      <th></th>\n",
       "      <th></th>\n",
       "      <th></th>\n",
       "      <th></th>\n",
       "      <th></th>\n",
       "      <th></th>\n",
       "    </tr>\n",
       "  </thead>\n",
       "  <tbody>\n",
       "    <tr>\n",
       "      <td>1219720675797041152</td>\n",
       "      <td>Tue Jan 21 20:37:25 +0000 2020</td>\n",
       "      <td>RT @vijaita: Dear rest of India, all Bengali s...</td>\n",
       "      <td>False</td>\n",
       "      <td>&lt;a href=\"http://twitter.com/download/android\" ...</td>\n",
       "      <td>NaN</td>\n",
       "      <td>None</td>\n",
       "      <td>NaN</td>\n",
       "      <td>None</td>\n",
       "      <td>None</td>\n",
       "      <td>NaN</td>\n",
       "      <td>...</td>\n",
       "      <td>NaN</td>\n",
       "      <td>NaN</td>\n",
       "      <td>NaN</td>\n",
       "      <td>NaN</td>\n",
       "      <td>NaN</td>\n",
       "      <td>NaN</td>\n",
       "      <td>[dear, rest, india, bengali, speaking, people,...</td>\n",
       "      <td>[dear, rest, india, bengali, speak, peopl, ban...</td>\n",
       "      <td>0.3818</td>\n",
       "      <td>small</td>\n",
       "    </tr>\n",
       "    <tr>\n",
       "      <td>1219720397387513856</td>\n",
       "      <td>Tue Jan 21 20:36:18 +0000 2020</td>\n",
       "      <td>the xenophobia in the replies makes me sad htt...</td>\n",
       "      <td>False</td>\n",
       "      <td>&lt;a href=\"https://mobile.twitter.com\" rel=\"nofo...</td>\n",
       "      <td>NaN</td>\n",
       "      <td>None</td>\n",
       "      <td>NaN</td>\n",
       "      <td>None</td>\n",
       "      <td>None</td>\n",
       "      <td>NaN</td>\n",
       "      <td>...</td>\n",
       "      <td>NaN</td>\n",
       "      <td>NaN</td>\n",
       "      <td>NaN</td>\n",
       "      <td>NaN</td>\n",
       "      <td>NaN</td>\n",
       "      <td>NaN</td>\n",
       "      <td>[xenophobia, replies, makes, sad]</td>\n",
       "      <td>[xenophobia, repli, make, sad]</td>\n",
       "      <td>-0.4767</td>\n",
       "      <td>medium</td>\n",
       "    </tr>\n",
       "    <tr>\n",
       "      <td>1219720349467709442</td>\n",
       "      <td>Tue Jan 21 20:36:07 +0000 2020</td>\n",
       "      <td>RT @PlisskenVon: Meanwhile, the left have weap...</td>\n",
       "      <td>False</td>\n",
       "      <td>&lt;a href=\"https://twitterrific.com/ios\" rel=\"no...</td>\n",
       "      <td>NaN</td>\n",
       "      <td>None</td>\n",
       "      <td>NaN</td>\n",
       "      <td>None</td>\n",
       "      <td>None</td>\n",
       "      <td>NaN</td>\n",
       "      <td>...</td>\n",
       "      <td>NaN</td>\n",
       "      <td>NaN</td>\n",
       "      <td>NaN</td>\n",
       "      <td>NaN</td>\n",
       "      <td>NaN</td>\n",
       "      <td>NaN</td>\n",
       "      <td>[meanwhile, left, weaponised, racist, bigot, t...</td>\n",
       "      <td>[meanwhil, left, weaponis, racist, bigot, tran...</td>\n",
       "      <td>-0.6124</td>\n",
       "      <td>small</td>\n",
       "    </tr>\n",
       "    <tr>\n",
       "      <td>1219720100997222402</td>\n",
       "      <td>Tue Jan 21 20:35:08 +0000 2020</td>\n",
       "      <td>@mkasim_13 @ScottySacam97 Yes because finding ...</td>\n",
       "      <td>True</td>\n",
       "      <td>&lt;a href=\"https://mobile.twitter.com\" rel=\"nofo...</td>\n",
       "      <td>1.219719e+18</td>\n",
       "      <td>1219719138651922433</td>\n",
       "      <td>1.215362e+18</td>\n",
       "      <td>1215362483080323079</td>\n",
       "      <td>mkasim_13</td>\n",
       "      <td>NaN</td>\n",
       "      <td>...</td>\n",
       "      <td>NaN</td>\n",
       "      <td>NaN</td>\n",
       "      <td>NaN</td>\n",
       "      <td>NaN</td>\n",
       "      <td>NaN</td>\n",
       "      <td>NaN</td>\n",
       "      <td>[yes, finding, common, ground, neo, nazis, lik...</td>\n",
       "      <td>[ye, find, common, ground, neo, nazi, like, tu...</td>\n",
       "      <td>0.7631</td>\n",
       "      <td>medium</td>\n",
       "    </tr>\n",
       "    <tr>\n",
       "      <td>1219719957065261056</td>\n",
       "      <td>Tue Jan 21 20:34:33 +0000 2020</td>\n",
       "      <td>Know how sometimes you see shocking amounts of...</td>\n",
       "      <td>True</td>\n",
       "      <td>&lt;a href=\"http://twitter.com/download/iphone\" r...</td>\n",
       "      <td>NaN</td>\n",
       "      <td>None</td>\n",
       "      <td>NaN</td>\n",
       "      <td>None</td>\n",
       "      <td>None</td>\n",
       "      <td>NaN</td>\n",
       "      <td>...</td>\n",
       "      <td>NaN</td>\n",
       "      <td>NaN</td>\n",
       "      <td>NaN</td>\n",
       "      <td>NaN</td>\n",
       "      <td>NaN</td>\n",
       "      <td>NaN</td>\n",
       "      <td>[know, sometimes, see, shocking, amounts, raci...</td>\n",
       "      <td>[know, sometim, see, shock, amount, racism, ho...</td>\n",
       "      <td>-1.0268</td>\n",
       "      <td>medium</td>\n",
       "    </tr>\n",
       "    <tr>\n",
       "      <td>...</td>\n",
       "      <td>...</td>\n",
       "      <td>...</td>\n",
       "      <td>...</td>\n",
       "      <td>...</td>\n",
       "      <td>...</td>\n",
       "      <td>...</td>\n",
       "      <td>...</td>\n",
       "      <td>...</td>\n",
       "      <td>...</td>\n",
       "      <td>...</td>\n",
       "      <td>...</td>\n",
       "      <td>...</td>\n",
       "      <td>...</td>\n",
       "      <td>...</td>\n",
       "      <td>...</td>\n",
       "      <td>...</td>\n",
       "      <td>...</td>\n",
       "      <td>...</td>\n",
       "      <td>...</td>\n",
       "      <td>...</td>\n",
       "      <td>...</td>\n",
       "    </tr>\n",
       "    <tr>\n",
       "      <td>1219679997339684864</td>\n",
       "      <td>Tue Jan 21 17:55:46 +0000 2020</td>\n",
       "      <td>https://t.co/CMvUmTzyZF All the way from South...</td>\n",
       "      <td>True</td>\n",
       "      <td>&lt;a href=\"http://instagram.com\" rel=\"nofollow\"&gt;...</td>\n",
       "      <td>NaN</td>\n",
       "      <td>None</td>\n",
       "      <td>NaN</td>\n",
       "      <td>None</td>\n",
       "      <td>None</td>\n",
       "      <td>NaN</td>\n",
       "      <td>...</td>\n",
       "      <td>NaN</td>\n",
       "      <td>NaN</td>\n",
       "      <td>NaN</td>\n",
       "      <td>NaN</td>\n",
       "      <td>NaN</td>\n",
       "      <td>NaN</td>\n",
       "      <td>[way, south, africa, bringing, clare, tuesday,...</td>\n",
       "      <td>[way, south, africa, bring, clare, tuesday, tu...</td>\n",
       "      <td>0.0000</td>\n",
       "      <td>small</td>\n",
       "    </tr>\n",
       "    <tr>\n",
       "      <td>1219679824236699649</td>\n",
       "      <td>Tue Jan 21 17:55:05 +0000 2020</td>\n",
       "      <td>RT @ameobi6: THIS IS THE SCREENSHOT OF MY ACCO...</td>\n",
       "      <td>False</td>\n",
       "      <td>&lt;a href=\"http://twitter.com/download/android\" ...</td>\n",
       "      <td>NaN</td>\n",
       "      <td>None</td>\n",
       "      <td>NaN</td>\n",
       "      <td>None</td>\n",
       "      <td>None</td>\n",
       "      <td>NaN</td>\n",
       "      <td>...</td>\n",
       "      <td>NaN</td>\n",
       "      <td>NaN</td>\n",
       "      <td>NaN</td>\n",
       "      <td>NaN</td>\n",
       "      <td>NaN</td>\n",
       "      <td>NaN</td>\n",
       "      <td>[screenshot, account, statement, made, money, ...</td>\n",
       "      <td>[screenshot, account, statement, made, money, ...</td>\n",
       "      <td>0.4588</td>\n",
       "      <td>small</td>\n",
       "    </tr>\n",
       "    <tr>\n",
       "      <td>1219679790082461696</td>\n",
       "      <td>Tue Jan 21 17:54:57 +0000 2020</td>\n",
       "      <td>https://t.co/By0KBr5HQV | Woman who was shot a...</td>\n",
       "      <td>False</td>\n",
       "      <td>&lt;a href=\"http://twibble.io\" rel=\"nofollow\"&gt;Twi...</td>\n",
       "      <td>NaN</td>\n",
       "      <td>None</td>\n",
       "      <td>NaN</td>\n",
       "      <td>None</td>\n",
       "      <td>None</td>\n",
       "      <td>NaN</td>\n",
       "      <td>...</td>\n",
       "      <td>NaN</td>\n",
       "      <td>NaN</td>\n",
       "      <td>NaN</td>\n",
       "      <td>NaN</td>\n",
       "      <td>NaN</td>\n",
       "      <td>NaN</td>\n",
       "      <td>[woman, shot, dumped, highway, near, pinetown,...</td>\n",
       "      <td>[woman, shot, dump, highway, near, pinetown, d...</td>\n",
       "      <td>-0.4019</td>\n",
       "      <td>wide</td>\n",
       "    </tr>\n",
       "    <tr>\n",
       "      <td>1219679711187652608</td>\n",
       "      <td>Tue Jan 21 17:54:38 +0000 2020</td>\n",
       "      <td>https://t.co/By0KBr5HQV | Medical staff trappe...</td>\n",
       "      <td>False</td>\n",
       "      <td>&lt;a href=\"http://twibble.io\" rel=\"nofollow\"&gt;Twi...</td>\n",
       "      <td>NaN</td>\n",
       "      <td>None</td>\n",
       "      <td>NaN</td>\n",
       "      <td>None</td>\n",
       "      <td>None</td>\n",
       "      <td>NaN</td>\n",
       "      <td>...</td>\n",
       "      <td>NaN</td>\n",
       "      <td>NaN</td>\n",
       "      <td>NaN</td>\n",
       "      <td>NaN</td>\n",
       "      <td>NaN</td>\n",
       "      <td>NaN</td>\n",
       "      <td>[medical, staff, trapped, volatile, qwaqwa, re...</td>\n",
       "      <td>[medic, staff, trap, volatil, qwaqwa, resid, d...</td>\n",
       "      <td>-0.6547</td>\n",
       "      <td>wide</td>\n",
       "    </tr>\n",
       "    <tr>\n",
       "      <td>1219679630854164483</td>\n",
       "      <td>Tue Jan 21 17:54:19 +0000 2020</td>\n",
       "      <td>https://t.co/By0KBr5HQV | 'Nyati lodge is hidi...</td>\n",
       "      <td>True</td>\n",
       "      <td>&lt;a href=\"http://twibble.io\" rel=\"nofollow\"&gt;Twi...</td>\n",
       "      <td>NaN</td>\n",
       "      <td>None</td>\n",
       "      <td>NaN</td>\n",
       "      <td>None</td>\n",
       "      <td>None</td>\n",
       "      <td>NaN</td>\n",
       "      <td>...</td>\n",
       "      <td>NaN</td>\n",
       "      <td>NaN</td>\n",
       "      <td>NaN</td>\n",
       "      <td>NaN</td>\n",
       "      <td>NaN</td>\n",
       "      <td>NaN</td>\n",
       "      <td>[nyati, lodge, hiding, something, enoch, mpian...</td>\n",
       "      <td>[nyati, lodg, hide, someth, enoch, mpianzi, fa...</td>\n",
       "      <td>-0.7548</td>\n",
       "      <td>wide</td>\n",
       "    </tr>\n",
       "  </tbody>\n",
       "</table>\n",
       "<p>4371 rows × 326 columns</p>\n",
       "</div>"
      ],
      "text/plain": [
       "                                         created_at  \\\n",
       "id                                                    \n",
       "1219720675797041152  Tue Jan 21 20:37:25 +0000 2020   \n",
       "1219720397387513856  Tue Jan 21 20:36:18 +0000 2020   \n",
       "1219720349467709442  Tue Jan 21 20:36:07 +0000 2020   \n",
       "1219720100997222402  Tue Jan 21 20:35:08 +0000 2020   \n",
       "1219719957065261056  Tue Jan 21 20:34:33 +0000 2020   \n",
       "...                                             ...   \n",
       "1219679997339684864  Tue Jan 21 17:55:46 +0000 2020   \n",
       "1219679824236699649  Tue Jan 21 17:55:05 +0000 2020   \n",
       "1219679790082461696  Tue Jan 21 17:54:57 +0000 2020   \n",
       "1219679711187652608  Tue Jan 21 17:54:38 +0000 2020   \n",
       "1219679630854164483  Tue Jan 21 17:54:19 +0000 2020   \n",
       "\n",
       "                                                                  text  \\\n",
       "id                                                                       \n",
       "1219720675797041152  RT @vijaita: Dear rest of India, all Bengali s...   \n",
       "1219720397387513856  the xenophobia in the replies makes me sad htt...   \n",
       "1219720349467709442  RT @PlisskenVon: Meanwhile, the left have weap...   \n",
       "1219720100997222402  @mkasim_13 @ScottySacam97 Yes because finding ...   \n",
       "1219719957065261056  Know how sometimes you see shocking amounts of...   \n",
       "...                                                                ...   \n",
       "1219679997339684864  https://t.co/CMvUmTzyZF All the way from South...   \n",
       "1219679824236699649  RT @ameobi6: THIS IS THE SCREENSHOT OF MY ACCO...   \n",
       "1219679790082461696  https://t.co/By0KBr5HQV | Woman who was shot a...   \n",
       "1219679711187652608  https://t.co/By0KBr5HQV | Medical staff trappe...   \n",
       "1219679630854164483  https://t.co/By0KBr5HQV | 'Nyati lodge is hidi...   \n",
       "\n",
       "                     truncated  \\\n",
       "id                               \n",
       "1219720675797041152      False   \n",
       "1219720397387513856      False   \n",
       "1219720349467709442      False   \n",
       "1219720100997222402       True   \n",
       "1219719957065261056       True   \n",
       "...                        ...   \n",
       "1219679997339684864       True   \n",
       "1219679824236699649      False   \n",
       "1219679790082461696      False   \n",
       "1219679711187652608      False   \n",
       "1219679630854164483       True   \n",
       "\n",
       "                                                                source  \\\n",
       "id                                                                       \n",
       "1219720675797041152  <a href=\"http://twitter.com/download/android\" ...   \n",
       "1219720397387513856  <a href=\"https://mobile.twitter.com\" rel=\"nofo...   \n",
       "1219720349467709442  <a href=\"https://twitterrific.com/ios\" rel=\"no...   \n",
       "1219720100997222402  <a href=\"https://mobile.twitter.com\" rel=\"nofo...   \n",
       "1219719957065261056  <a href=\"http://twitter.com/download/iphone\" r...   \n",
       "...                                                                ...   \n",
       "1219679997339684864  <a href=\"http://instagram.com\" rel=\"nofollow\">...   \n",
       "1219679824236699649  <a href=\"http://twitter.com/download/android\" ...   \n",
       "1219679790082461696  <a href=\"http://twibble.io\" rel=\"nofollow\">Twi...   \n",
       "1219679711187652608  <a href=\"http://twibble.io\" rel=\"nofollow\">Twi...   \n",
       "1219679630854164483  <a href=\"http://twibble.io\" rel=\"nofollow\">Twi...   \n",
       "\n",
       "                     in_reply_to_status_id in_reply_to_status_id_str  \\\n",
       "id                                                                     \n",
       "1219720675797041152                    NaN                      None   \n",
       "1219720397387513856                    NaN                      None   \n",
       "1219720349467709442                    NaN                      None   \n",
       "1219720100997222402           1.219719e+18       1219719138651922433   \n",
       "1219719957065261056                    NaN                      None   \n",
       "...                                    ...                       ...   \n",
       "1219679997339684864                    NaN                      None   \n",
       "1219679824236699649                    NaN                      None   \n",
       "1219679790082461696                    NaN                      None   \n",
       "1219679711187652608                    NaN                      None   \n",
       "1219679630854164483                    NaN                      None   \n",
       "\n",
       "                     in_reply_to_user_id in_reply_to_user_id_str  \\\n",
       "id                                                                 \n",
       "1219720675797041152                  NaN                    None   \n",
       "1219720397387513856                  NaN                    None   \n",
       "1219720349467709442                  NaN                    None   \n",
       "1219720100997222402         1.215362e+18     1215362483080323079   \n",
       "1219719957065261056                  NaN                    None   \n",
       "...                                  ...                     ...   \n",
       "1219679997339684864                  NaN                    None   \n",
       "1219679824236699649                  NaN                    None   \n",
       "1219679790082461696                  NaN                    None   \n",
       "1219679711187652608                  NaN                    None   \n",
       "1219679630854164483                  NaN                    None   \n",
       "\n",
       "                    in_reply_to_screen_name  geo  ...  withheld_in_countries  \\\n",
       "id                                                ...                          \n",
       "1219720675797041152                    None  NaN  ...                    NaN   \n",
       "1219720397387513856                    None  NaN  ...                    NaN   \n",
       "1219720349467709442                    None  NaN  ...                    NaN   \n",
       "1219720100997222402               mkasim_13  NaN  ...                    NaN   \n",
       "1219719957065261056                    None  NaN  ...                    NaN   \n",
       "...                                     ...  ...  ...                    ...   \n",
       "1219679997339684864                    None  NaN  ...                    NaN   \n",
       "1219679824236699649                    None  NaN  ...                    NaN   \n",
       "1219679790082461696                    None  NaN  ...                    NaN   \n",
       "1219679711187652608                    None  NaN  ...                    NaN   \n",
       "1219679630854164483                    None  NaN  ...                    NaN   \n",
       "\n",
       "                     user.withheld_in_countries geo.type  geo.coordinates  \\\n",
       "id                                                                          \n",
       "1219720675797041152                         NaN      NaN              NaN   \n",
       "1219720397387513856                         NaN      NaN              NaN   \n",
       "1219720349467709442                         NaN      NaN              NaN   \n",
       "1219720100997222402                         NaN      NaN              NaN   \n",
       "1219719957065261056                         NaN      NaN              NaN   \n",
       "...                                         ...      ...              ...   \n",
       "1219679997339684864                         NaN      NaN              NaN   \n",
       "1219679824236699649                         NaN      NaN              NaN   \n",
       "1219679790082461696                         NaN      NaN              NaN   \n",
       "1219679711187652608                         NaN      NaN              NaN   \n",
       "1219679630854164483                         NaN      NaN              NaN   \n",
       "\n",
       "                     coordinates.type  coordinates.coordinates  \\\n",
       "id                                                               \n",
       "1219720675797041152               NaN                      NaN   \n",
       "1219720397387513856               NaN                      NaN   \n",
       "1219720349467709442               NaN                      NaN   \n",
       "1219720100997222402               NaN                      NaN   \n",
       "1219719957065261056               NaN                      NaN   \n",
       "...                               ...                      ...   \n",
       "1219679997339684864               NaN                      NaN   \n",
       "1219679824236699649               NaN                      NaN   \n",
       "1219679790082461696               NaN                      NaN   \n",
       "1219679711187652608               NaN                      NaN   \n",
       "1219679630854164483               NaN                      NaN   \n",
       "\n",
       "                                                        processed_text  \\\n",
       "id                                                                       \n",
       "1219720675797041152  [dear, rest, india, bengali, speaking, people,...   \n",
       "1219720397387513856                  [xenophobia, replies, makes, sad]   \n",
       "1219720349467709442  [meanwhile, left, weaponised, racist, bigot, t...   \n",
       "1219720100997222402  [yes, finding, common, ground, neo, nazis, lik...   \n",
       "1219719957065261056  [know, sometimes, see, shocking, amounts, raci...   \n",
       "...                                                                ...   \n",
       "1219679997339684864  [way, south, africa, bringing, clare, tuesday,...   \n",
       "1219679824236699649  [screenshot, account, statement, made, money, ...   \n",
       "1219679790082461696  [woman, shot, dumped, highway, near, pinetown,...   \n",
       "1219679711187652608  [medical, staff, trapped, volatile, qwaqwa, re...   \n",
       "1219679630854164483  [nyati, lodge, hiding, something, enoch, mpian...   \n",
       "\n",
       "                                                               stemmed  \\\n",
       "id                                                                       \n",
       "1219720675797041152  [dear, rest, india, bengali, speak, peopl, ban...   \n",
       "1219720397387513856                     [xenophobia, repli, make, sad]   \n",
       "1219720349467709442  [meanwhil, left, weaponis, racist, bigot, tran...   \n",
       "1219720100997222402  [ye, find, common, ground, neo, nazi, like, tu...   \n",
       "1219719957065261056  [know, sometim, see, shock, amount, racism, ho...   \n",
       "...                                                                ...   \n",
       "1219679997339684864  [way, south, africa, bring, clare, tuesday, tu...   \n",
       "1219679824236699649  [screenshot, account, statement, made, money, ...   \n",
       "1219679790082461696  [woman, shot, dump, highway, near, pinetown, d...   \n",
       "1219679711187652608  [medic, staff, trap, volatil, qwaqwa, resid, d...   \n",
       "1219679630854164483  [nyati, lodg, hide, someth, enoch, mpianzi, fa...   \n",
       "\n",
       "                    sentiment_score user_audience_category  \n",
       "id                                                          \n",
       "1219720675797041152          0.3818                  small  \n",
       "1219720397387513856         -0.4767                 medium  \n",
       "1219720349467709442         -0.6124                  small  \n",
       "1219720100997222402          0.7631                 medium  \n",
       "1219719957065261056         -1.0268                 medium  \n",
       "...                             ...                    ...  \n",
       "1219679997339684864          0.0000                  small  \n",
       "1219679824236699649          0.4588                  small  \n",
       "1219679790082461696         -0.4019                   wide  \n",
       "1219679711187652608         -0.6547                   wide  \n",
       "1219679630854164483         -0.7548                   wide  \n",
       "\n",
       "[4371 rows x 326 columns]"
      ]
     },
     "execution_count": 85,
     "metadata": {},
     "output_type": "execute_result"
    }
   ],
   "source": [
    "df"
   ]
  },
  {
   "cell_type": "code",
   "execution_count": 117,
   "metadata": {},
   "outputs": [
    {
     "ename": "FileNotFoundError",
     "evalue": "[Errno 2] No such file or directory: 'C:\\\\Users\\\\blmalumi\\\\AppData\\\\Local\\\\Continuum\\\\anaconda3\\\\Library\\\\share\\\\basemap\\\\etopo1.jpg'",
     "output_type": "error",
     "traceback": [
      "\u001b[1;31m---------------------------------------------------------------------------\u001b[0m",
      "\u001b[1;31mFileNotFoundError\u001b[0m                         Traceback (most recent call last)",
      "\u001b[1;32m<ipython-input-117-f999bde15f77>\u001b[0m in \u001b[0;36m<module>\u001b[1;34m\u001b[0m\n\u001b[0;32m      2\u001b[0m \u001b[0mplt\u001b[0m\u001b[1;33m.\u001b[0m\u001b[0mfigure\u001b[0m\u001b[1;33m(\u001b[0m \u001b[0mfigsize\u001b[0m\u001b[1;33m=\u001b[0m\u001b[1;33m(\u001b[0m\u001b[1;36m20\u001b[0m\u001b[1;33m,\u001b[0m\u001b[1;36m10\u001b[0m\u001b[1;33m)\u001b[0m\u001b[1;33m,\u001b[0m \u001b[0mfacecolor\u001b[0m\u001b[1;33m=\u001b[0m\u001b[1;34m'k'\u001b[0m\u001b[1;33m)\u001b[0m\u001b[1;33m\u001b[0m\u001b[1;33m\u001b[0m\u001b[0m\n\u001b[0;32m      3\u001b[0m \u001b[0mm\u001b[0m \u001b[1;33m=\u001b[0m \u001b[0mBasemap\u001b[0m\u001b[1;33m(\u001b[0m\u001b[0mprojection\u001b[0m\u001b[1;33m=\u001b[0m\u001b[1;34m'mill'\u001b[0m\u001b[1;33m,\u001b[0m\u001b[0mresolution\u001b[0m\u001b[1;33m=\u001b[0m\u001b[1;32mNone\u001b[0m\u001b[1;33m,\u001b[0m\u001b[0mllcrnrlat\u001b[0m\u001b[1;33m=\u001b[0m\u001b[1;33m-\u001b[0m\u001b[1;36m90\u001b[0m\u001b[1;33m,\u001b[0m\u001b[0murcrnrlat\u001b[0m\u001b[1;33m=\u001b[0m\u001b[1;36m90\u001b[0m\u001b[1;33m,\u001b[0m\u001b[0mllcrnrlon\u001b[0m\u001b[1;33m=\u001b[0m\u001b[1;33m-\u001b[0m\u001b[1;36m180\u001b[0m\u001b[1;33m,\u001b[0m\u001b[0murcrnrlon\u001b[0m\u001b[1;33m=\u001b[0m\u001b[1;36m180\u001b[0m\u001b[1;33m)\u001b[0m\u001b[1;33m\u001b[0m\u001b[1;33m\u001b[0m\u001b[0m\n\u001b[1;32m----> 4\u001b[1;33m \u001b[0mm\u001b[0m\u001b[1;33m.\u001b[0m\u001b[0metopo\u001b[0m\u001b[1;33m(\u001b[0m\u001b[1;33m)\u001b[0m\u001b[1;33m\u001b[0m\u001b[1;33m\u001b[0m\u001b[0m\n\u001b[0m\u001b[0;32m      5\u001b[0m \u001b[0mxpt\u001b[0m\u001b[1;33m,\u001b[0m\u001b[0mypt\u001b[0m \u001b[1;33m=\u001b[0m \u001b[0mm\u001b[0m\u001b[1;33m(\u001b[0m\u001b[0mnp\u001b[0m\u001b[1;33m.\u001b[0m\u001b[0marray\u001b[0m\u001b[1;33m(\u001b[0m\u001b[0mmapdata\u001b[0m\u001b[1;33m[\u001b[0m\u001b[1;34m'lon'\u001b[0m\u001b[1;33m]\u001b[0m\u001b[1;33m)\u001b[0m\u001b[1;33m,\u001b[0m\u001b[0mnp\u001b[0m\u001b[1;33m.\u001b[0m\u001b[0marray\u001b[0m\u001b[1;33m(\u001b[0m\u001b[0mmapdata\u001b[0m\u001b[1;33m[\u001b[0m\u001b[1;34m'lat'\u001b[0m\u001b[1;33m]\u001b[0m\u001b[1;33m)\u001b[0m\u001b[1;33m)\u001b[0m\u001b[1;33m\u001b[0m\u001b[1;33m\u001b[0m\u001b[0m\n\u001b[0;32m      6\u001b[0m \u001b[0mlon\u001b[0m\u001b[1;33m,\u001b[0m\u001b[0mlat\u001b[0m \u001b[1;33m=\u001b[0m \u001b[0mm\u001b[0m\u001b[1;33m(\u001b[0m\u001b[0mxpt\u001b[0m\u001b[1;33m,\u001b[0m\u001b[0mypt\u001b[0m\u001b[1;33m,\u001b[0m\u001b[0minverse\u001b[0m\u001b[1;33m=\u001b[0m\u001b[1;32mTrue\u001b[0m\u001b[1;33m)\u001b[0m\u001b[1;33m\u001b[0m\u001b[1;33m\u001b[0m\u001b[0m\n",
      "\u001b[1;32m~\\AppData\\Local\\Continuum\\anaconda3\\lib\\site-packages\\mpl_toolkits\\basemap\\__init__.py\u001b[0m in \u001b[0;36metopo\u001b[1;34m(self, ax, scale, **kwargs)\u001b[0m\n",
      "\u001b[1;32m~\\AppData\\Local\\Continuum\\anaconda3\\lib\\site-packages\\mpl_toolkits\\basemap\\__init__.py\u001b[0m in \u001b[0;36mwarpimage\u001b[1;34m(self, image, scale, **kwargs)\u001b[0m\n",
      "\u001b[1;32m~\\AppData\\Local\\Continuum\\anaconda3\\lib\\site-packages\\PIL\\Image.py\u001b[0m in \u001b[0;36mopen\u001b[1;34m(fp, mode)\u001b[0m\n\u001b[0;32m   2764\u001b[0m \u001b[1;33m\u001b[0m\u001b[0m\n\u001b[0;32m   2765\u001b[0m     \u001b[1;32mif\u001b[0m \u001b[0mfilename\u001b[0m\u001b[1;33m:\u001b[0m\u001b[1;33m\u001b[0m\u001b[1;33m\u001b[0m\u001b[0m\n\u001b[1;32m-> 2766\u001b[1;33m         \u001b[0mfp\u001b[0m \u001b[1;33m=\u001b[0m \u001b[0mbuiltins\u001b[0m\u001b[1;33m.\u001b[0m\u001b[0mopen\u001b[0m\u001b[1;33m(\u001b[0m\u001b[0mfilename\u001b[0m\u001b[1;33m,\u001b[0m \u001b[1;34m\"rb\"\u001b[0m\u001b[1;33m)\u001b[0m\u001b[1;33m\u001b[0m\u001b[1;33m\u001b[0m\u001b[0m\n\u001b[0m\u001b[0;32m   2767\u001b[0m         \u001b[0mexclusive_fp\u001b[0m \u001b[1;33m=\u001b[0m \u001b[1;32mTrue\u001b[0m\u001b[1;33m\u001b[0m\u001b[1;33m\u001b[0m\u001b[0m\n\u001b[0;32m   2768\u001b[0m \u001b[1;33m\u001b[0m\u001b[0m\n",
      "\u001b[1;31mFileNotFoundError\u001b[0m: [Errno 2] No such file or directory: 'C:\\\\Users\\\\blmalumi\\\\AppData\\\\Local\\\\Continuum\\\\anaconda3\\\\Library\\\\share\\\\basemap\\\\etopo1.jpg'"
     ]
    },
    {
     "data": {
      "image/png": "[encoded data removed]",
      "text/plain": [
       "<Figure size 1440x720 with 1 Axes>"
      ]
     },
     "metadata": {},
     "output_type": "display_data"
    }
   ],
   "source": [
    "import numpy as np\n",
    "plt.figure( figsize=(20,10), facecolor='k')\n",
    "m = Basemap(projection='mill',resolution=None,llcrnrlat=-90,urcrnrlat=90,llcrnrlon=-180,urcrnrlon=180)\n",
    "m.etopo()\n",
    "xpt,ypt = m(np.array(mapdata['lon']),np.array(mapdata['lat']))\n",
    "lon,lat = m(xpt,ypt,inverse=True)\n",
    "m.plot(xpt,ypt,'ro',markersize=np.sqrt(36)) \n",
    "plt.title('Repartition on the globe', bbox={'facecolor':'0.8', 'pad':3})\n",
    "plt.show()"
   ]
  },
  {
   "cell_type": "code",
   "execution_count": null,
   "metadata": {},
   "outputs": [],
   "source": [
    "import cartopy.crs as ccrs\n",
    "from matplotlib.patches import Circle\n",
    "\n",
    "ax = plt.axes(projection=ccrs.PlateCarree())\n",
    "ax.stock_img()\n",
    "\n",
    "# plot individual locations                                                                                                       \n",
    "ax.plot(mapdata.lon, mapdata.lat, 'ro', transform=ccrs.PlateCarree())\n",
    "\n",
    "# add coastlines for reference                                                                                                \n",
    "ax.coastlines(resolution='50m')\n",
    "ax.set_global()\n",
    "ax.set_extent([20, -20, 45,60])\n",
    "\n",
    "# helper function\n",
    "def get_radius(freq):\n",
    "    if freq < 50:\n",
    "        return 0.5\n",
    "    elif freq < 200:\n",
    "        return 1.2\n",
    "    elif freq < 1000:\n",
    "        return 1.8\n",
    "\n",
    "\n",
    "# plot count of tweets per location\n",
    "for i,x in locations.iteritems():\n",
    "    ax.add_patch(Circle(xy=[i[2], i[1]], radius=get_radius(x), color='blue', alpha=0.6, transform=ccrs.PlateCarree()))\n",
    "\n",
    "plt.show()"
   ]
  },
  {
   "cell_type": "code",
   "execution_count": 95,
   "metadata": {},
   "outputs": [
    {
     "data": {
      "text/plain": [
       "<matplotlib.axes._subplots.AxesSubplot at 0x2637a957b48>"
      ]
     },
     "execution_count": 95,
     "metadata": {},
     "output_type": "execute_result"
    },
    {
     "data": {
      "image/png": "[encoded data removed]",
      "text/plain": [
       "<Figure size 432x288 with 1 Axes>"
      ]
     },
     "metadata": {
      "needs_background": "light"
     },
     "output_type": "display_data"
    }
   ],
   "source": [
    "df['sentiment_score'].hist(color='#86bf91')\n",
    "\n",
    "plt.title(\"Tweets mentioning xenophobia\")\n",
    "plt.xlabel(\"Twitter account age in years\")\n",
    "plt.ylabel(\"# of tweets\")"
   ]
  },
  {
   "cell_type": "code",
   "execution_count": 59,
   "metadata": {},
   "outputs": [],
   "source": [
    "sent_clasification = pd.cut(df['sentiment_score'],\\\n",
    "          [-3,-1.2, 0, 1.2 , 3],\\\n",
    "          right=True,\\\n",
    "          include_lowest=True,\\\n",
    "          labels=['strongly negative', 'negative', 'positive', 'strongly positive'])"
   ]
  },
  {
   "cell_type": "code",
   "execution_count": 60,
   "metadata": {},
   "outputs": [
    {
     "data": {
      "text/plain": [
       "negative             2830\n",
       "positive             1308\n",
       "strongly negative     172\n",
       "strongly positive      60\n",
       "Name: sentiment_score, dtype: int64"
      ]
     },
     "execution_count": 60,
     "metadata": {},
     "output_type": "execute_result"
    }
   ],
   "source": [
    "sent_clasification.value_counts()"
   ]
  },
  {
   "cell_type": "code",
   "execution_count": 116,
   "metadata": {},
   "outputs": [
    {
     "data": {
      "text/plain": [
       "<matplotlib.axes._subplots.AxesSubplot at 0x2637a4e3348>"
      ]
     },
     "execution_count": 116,
     "metadata": {},
     "output_type": "execute_result"
    },
    {
     "data": {
      "image/png": "[encoded data removed]",
      "text/plain": [
       "<Figure size 864x576 with 1 Axes>"
      ]
     },
     "metadata": {
      "needs_background": "light"
     },
     "output_type": "display_data"
    }
   ],
   "source": [
    "sent_clasification.value_counts().plot(kind='bar', color=\"orange\", figsize=(12,8), fontsize=18)"
   ]
  },
  {
   "cell_type": "code",
   "execution_count": 62,
   "metadata": {
    "scrolled": true
   },
   "outputs": [
    {
     "data": {
      "image/png": "[encoded data removed]",
      "text/plain": [
       "<Figure size 720x504 with 1 Axes>"
      ]
     },
     "metadata": {},
     "output_type": "display_data"
    }
   ],
   "source": [
    "plt.figure(figsize=(10,7))\n",
    "sent_clasification.value_counts().plot(kind='pie')\n",
    "plt.grid(False)\n",
    "plt.tight_layout()"
   ]
  },
  {
   "cell_type": "markdown",
   "metadata": {},
   "source": [
    "### Word Cloud"
   ]
  },
  {
   "cell_type": "markdown",
   "metadata": {},
   "source": [
    "Using our data, let's generate a wordcloud."
   ]
  },
  {
   "cell_type": "code",
   "execution_count": 63,
   "metadata": {},
   "outputs": [],
   "source": [
    "from wordcloud import WordCloud, STOPWORDS"
   ]
  },
  {
   "cell_type": "code",
   "execution_count": 64,
   "metadata": {},
   "outputs": [],
   "source": [
    "bigstring = df['processed_text'].apply(lambda x: ' '.join(x)).str.cat(sep=' ')"
   ]
  },
  {
   "cell_type": "code",
   "execution_count": 65,
   "metadata": {},
   "outputs": [
    {
     "data": {
      "text/plain": [
       "<matplotlib.image.AxesImage at 0x26306f94048>"
      ]
     },
     "execution_count": 65,
     "metadata": {},
     "output_type": "execute_result"
    },
    {
     "data": {
      "image/png": "[encoded data removed]",
      "text/plain": [
       "<Figure size 864x864 with 1 Axes>"
      ]
     },
     "metadata": {
      "needs_background": "light"
     },
     "output_type": "display_data"
    }
   ],
   "source": [
    "plt.figure(figsize=(12,12))\n",
    "wordcloud = WordCloud(stopwords=STOPWORDS,\n",
    "                          background_color='white',\n",
    "                          collocations=False,\n",
    "                          width=1200,\n",
    "                          height=1000\n",
    "                         ).generate(bigstring)\n",
    "plt.axis('off')\n",
    "plt.imshow(wordcloud)"
   ]
  },
  {
   "cell_type": "markdown",
   "metadata": {},
   "source": [
    "### Top Hashtags"
   ]
  },
  {
   "cell_type": "markdown",
   "metadata": {},
   "source": [
    "These are the 20 most used hashtags in our result set."
   ]
  },
  {
   "cell_type": "code",
   "execution_count": 66,
   "metadata": {},
   "outputs": [],
   "source": [
    "import re\n",
    "hashtags = df['text'].apply(lambda x: pd.value_counts(re.findall('(#\\w+)', x.lower() )))\\\n",
    "                     .sum(axis=0)\\\n",
    "                     .to_frame()\\\n",
    "                     .reset_index()\\\n",
    "                     .sort_values(by=0,ascending=False)\n",
    "hashtags.columns = ['hashtag','occurences']"
   ]
  },
  {
   "cell_type": "code",
   "execution_count": null,
   "metadata": {},
   "outputs": [],
   "source": [
    "hashtags.head(10)"
   ]
  },
  {
   "cell_type": "code",
   "execution_count": 107,
   "metadata": {
    "scrolled": true
   },
   "outputs": [
    {
     "data": {
      "text/plain": [
       "Text(0.5, 0.98, 'Top 10 Hashtags for keyword: XENOPHOBIA, locale: EN')"
      ]
     },
     "execution_count": 107,
     "metadata": {},
     "output_type": "execute_result"
    },
    {
     "data": {
      "image/png": "[encoded data removed]",
      "text/plain": [
       "<Figure size 864x720 with 1 Axes>"
      ]
     },
     "metadata": {
      "needs_background": "light"
     },
     "output_type": "display_data"
    }
   ],
   "source": [
    "hashtags[:10].plot(kind='bar',y='occurences',x='hashtag',figsize=(12,10),fontsize=18, color=\"lightblue\")\n",
    "plt.tight_layout()\n",
    "plt.grid(False)\n",
    "plt.suptitle('Top 10 Hashtags for keyword: XENOPHOBIA, locale: EN', fontsize=22)"
   ]
  },
  {
   "cell_type": "markdown",
   "metadata": {},
   "source": [
    "### Top Users Mentioned"
   ]
  },
  {
   "cell_type": "markdown",
   "metadata": {},
   "source": [
    "We are now going to plot the top 10 users that appear in tweets containing the term we've searched for."
   ]
  },
  {
   "cell_type": "code",
   "execution_count": 105,
   "metadata": {
    "scrolled": false
   },
   "outputs": [
    {
     "data": {
      "text/plain": [
       "<matplotlib.axes._subplots.AxesSubplot at 0x263084c0688>"
      ]
     },
     "execution_count": 105,
     "metadata": {},
     "output_type": "execute_result"
    },
    {
     "data": {
      "image/png": "[encoded data removed]",
      "text/plain": [
       "<Figure size 864x720 with 1 Axes>"
      ]
     },
     "metadata": {
      "needs_background": "light"
     },
     "output_type": "display_data"
    }
   ],
   "source": [
    "plt.grid(False)\n",
    "plt.tight_layout()\n",
    "plt.suptitle('Top 10 Users for keyword: XENOPHOBIA, locale: EN', fontsize=18)\n",
    "\n",
    "df['text'].str\\\n",
    "          .findall('(@[A-Za-z0-9]+)')\\\n",
    "          .apply(lambda x: pd.value_counts(x))\\\n",
    "          .sum(axis=0)\\\n",
    "          .sort_values(ascending=False)[:10]\\\n",
    "          .plot(kind='bar',figsize=(12,10),fontsize=18)"
   ]
  },
  {
   "cell_type": "markdown",
   "metadata": {},
   "source": [
    "### Top Words"
   ]
  },
  {
   "cell_type": "markdown",
   "metadata": {},
   "source": [
    "Here is a list of the 20 most used words in the tweets containing the searched term."
   ]
  },
  {
   "cell_type": "code",
   "execution_count": 70,
   "metadata": {},
   "outputs": [],
   "source": [
    "words = df['processed_text'].dropna()\\\n",
    "                            .apply(lambda y: pd.value_counts(re.findall('([\\s]\\w+[\\s])',' '.join(y))))\\\n",
    "                            .sum(axis=0)\\\n",
    "                            .to_frame()\\\n",
    "                            .reset_index()\\\n",
    "                            .sort_values(by=0,ascending=False)\n",
    "words.columns = ['word','occurences']"
   ]
  },
  {
   "cell_type": "code",
   "execution_count": 71,
   "metadata": {},
   "outputs": [
    {
     "data": {
      "text/html": [
       "<div>\n",
       "<style scoped>\n",
       "    .dataframe tbody tr th:only-of-type {\n",
       "        vertical-align: middle;\n",
       "    }\n",
       "\n",
       "    .dataframe tbody tr th {\n",
       "        vertical-align: top;\n",
       "    }\n",
       "\n",
       "    .dataframe thead th {\n",
       "        text-align: right;\n",
       "    }\n",
       "</style>\n",
       "<table border=\"1\" class=\"dataframe\">\n",
       "  <thead>\n",
       "    <tr style=\"text-align: right;\">\n",
       "      <th></th>\n",
       "      <th>word</th>\n",
       "      <th>occurences</th>\n",
       "    </tr>\n",
       "  </thead>\n",
       "  <tbody>\n",
       "    <tr>\n",
       "      <td>4713</td>\n",
       "      <td>xenophobia</td>\n",
       "      <td>841.0</td>\n",
       "    </tr>\n",
       "    <tr>\n",
       "      <td>3434</td>\n",
       "      <td>racism</td>\n",
       "      <td>302.0</td>\n",
       "    </tr>\n",
       "    <tr>\n",
       "      <td>3160</td>\n",
       "      <td>people</td>\n",
       "      <td>149.0</td>\n",
       "    </tr>\n",
       "    <tr>\n",
       "      <td>236</td>\n",
       "      <td>amp</td>\n",
       "      <td>102.0</td>\n",
       "    </tr>\n",
       "    <tr>\n",
       "      <td>2482</td>\n",
       "      <td>like</td>\n",
       "      <td>90.0</td>\n",
       "    </tr>\n",
       "    <tr>\n",
       "      <td>2365</td>\n",
       "      <td>kpop</td>\n",
       "      <td>72.0</td>\n",
       "    </tr>\n",
       "    <tr>\n",
       "      <td>4371</td>\n",
       "      <td>trump</td>\n",
       "      <td>68.0</td>\n",
       "    </tr>\n",
       "    <tr>\n",
       "      <td>3035</td>\n",
       "      <td>one</td>\n",
       "      <td>64.0</td>\n",
       "    </tr>\n",
       "    <tr>\n",
       "      <td>998</td>\n",
       "      <td>country</td>\n",
       "      <td>62.0</td>\n",
       "    </tr>\n",
       "    <tr>\n",
       "      <td>3803</td>\n",
       "      <td>sexism</td>\n",
       "      <td>57.0</td>\n",
       "    </tr>\n",
       "  </tbody>\n",
       "</table>\n",
       "</div>"
      ],
      "text/plain": [
       "              word  occurences\n",
       "4713   xenophobia        841.0\n",
       "3434       racism        302.0\n",
       "3160       people        149.0\n",
       "236           amp        102.0\n",
       "2482         like         90.0\n",
       "2365         kpop         72.0\n",
       "4371        trump         68.0\n",
       "3035          one         64.0\n",
       "998       country         62.0\n",
       "3803       sexism         57.0"
      ]
     },
     "execution_count": 71,
     "metadata": {},
     "output_type": "execute_result"
    }
   ],
   "source": [
    "words.head(10)"
   ]
  },
  {
   "cell_type": "code",
   "execution_count": 109,
   "metadata": {
    "scrolled": false
   },
   "outputs": [
    {
     "data": {
      "text/plain": [
       "Text(0.5, 0.98, 'Top 10 Words for keyword: XENOPHOBIA, locale: EN')"
      ]
     },
     "execution_count": 109,
     "metadata": {},
     "output_type": "execute_result"
    },
    {
     "data": {
      "image/png": "[encoded data removed]",
      "text/plain": [
       "<Figure size 864x720 with 1 Axes>"
      ]
     },
     "metadata": {
      "needs_background": "light"
     },
     "output_type": "display_data"
    }
   ],
   "source": [
    "words[:10].plot(kind='bar',y='occurences',x='word',fontsize=18, figsize=(12,10), color=\"pink\")\n",
    "plt.grid(False)\n",
    "plt.tight_layout()\n",
    "plt.suptitle('Top 10 Words for keyword: XENOPHOBIA, locale: EN', fontsize=18)"
   ]
  },
  {
   "cell_type": "markdown",
   "metadata": {},
   "source": [
    "### Top Bigrams"
   ]
  },
  {
   "cell_type": "markdown",
   "metadata": {},
   "source": [
    "A bigram is a pair of words. We're now going to look at the most occuring pairs of words in the result set."
   ]
  },
  {
   "cell_type": "code",
   "execution_count": 73,
   "metadata": {},
   "outputs": [],
   "source": [
    "from nltk import bigrams\n",
    "bigramseries = pd.Series([word for sublist in df['processed_text'].dropna()\\\n",
    "                    .apply(lambda x: [i for i in bigrams(x)])\\\n",
    "                    .tolist() for word in sublist])\\\n",
    "                    .value_counts()"
   ]
  },
  {
   "cell_type": "code",
   "execution_count": 74,
   "metadata": {
    "scrolled": false
   },
   "outputs": [
    {
     "data": {
      "text/plain": [
       "(racism, xenophobia)        274\n",
       "(xenophobia, racism)        121\n",
       "(racism, sexism)             56\n",
       "(south, africa)              44\n",
       "(sexism, xenophobia)         38\n",
       "(xenophobia, amp)            31\n",
       "(homophobia, xenophobia)     30\n",
       "(amp, xenophobia)            28\n",
       "(years, ago)                 26\n",
       "(three, years)               24\n",
       "dtype: int64"
      ]
     },
     "execution_count": 74,
     "metadata": {},
     "output_type": "execute_result"
    }
   ],
   "source": [
    "bigramseries.head(10)"
   ]
  },
  {
   "cell_type": "code",
   "execution_count": 113,
   "metadata": {
    "scrolled": true
   },
   "outputs": [
    {
     "data": {
      "text/plain": [
       "<matplotlib.axes._subplots.AxesSubplot at 0x26303625e48>"
      ]
     },
     "execution_count": 113,
     "metadata": {},
     "output_type": "execute_result"
    },
    {
     "data": {
      "image/png": "[encoded data removed]",
      "text/plain": [
       "<Figure size 864x720 with 1 Axes>"
      ]
     },
     "metadata": {
      "needs_background": "light"
     },
     "output_type": "display_data"
    }
   ],
   "source": [
    "plt.suptitle('Top 10 Bigrams for keyword: XENOPHOBIA, local: EN', fontsize=18)\n",
    "bigramseries[:10].plot(kind='bar',figsize=(12,10),fontsize=18, color=\"purple\")"
   ]
  },
  {
   "cell_type": "code",
   "execution_count": 77,
   "metadata": {},
   "outputs": [],
   "source": [
    "df.to_csv('tweets.csv')"
   ]
  },
  {
   "cell_type": "code",
   "execution_count": null,
   "metadata": {},
   "outputs": [],
   "source": []
  }
 ],
 "metadata": {
  "kernelspec": {
   "display_name": "Python 3",
   "language": "python",
   "name": "python3"
  },
  "language_info": {
   "codemirror_mode": {
    "name": "ipython",
    "version": 3
   },
   "file_extension": ".py",
   "mimetype": "text/x-python",
   "name": "python",
   "nbconvert_exporter": "python",
   "pygments_lexer": "ipython3",
   "version": "3.7.4"
  }
 },
 "nbformat": 4,
 "nbformat_minor": 1
}
